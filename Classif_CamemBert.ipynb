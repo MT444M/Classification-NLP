{
 "cells": [
  {
   "cell_type": "markdown",
   "metadata": {},
   "source": [
    "from pprint import pprint\n",
    "import functools\n",
    "\n",
    "import torch\n",
    "from torch.utils.data import DataLoader\n",
    "import torch.nn.functional as F\n",
    "import pytorch_lightning as pl\n",
    "from transformers import AutoModelForSequenceClassification, CamembertForMaskedLM, AutoTokenizer, AutoConfig\n",
    "from datasets import load_dataset\n",
    "from sklearn.metrics import confusion_matrix, f1_score\n",
    "\n",
    "import matplotlib.pyplot as plt\n",
    "import seaborn as sns\n",
    "import plotly.express as px\n",
    "from tqdm.notebook import tqdm"
   ]
  },
  {
   "cell_type": "code",
   "execution_count": 19,
   "metadata": {},
   "outputs": [],
   "source": [
    "import torch\n",
    "from torch.utils.data import DataLoader, Dataset\n",
    "\n",
    "from transformers import AutoModelForSequenceClassification, CamembertForMaskedLM, AutoTokenizer, AutoConfig,CamembertConfig\n",
    "from tqdm.notebook import tqdm\n",
    "import functools\n",
    "\n",
    "from sklearn.metrics import confusion_matrix, f1_score\n",
    "import pytorch_lightning as pl\n",
    "from pytorch_lightning.loggers import TensorBoardLogger\n",
    "\n",
    "\n",
    "import pandas as pd\n",
    "import matplotlib.pyplot as plt\n",
    "import seaborn as sns"
   ]
  },
  {
   "cell_type": "code",
   "execution_count": 2,
   "metadata": {},
   "outputs": [
    {
     "name": "stderr",
     "output_type": "stream",
     "text": [
      "c:\\Users\\mthia\\anaconda3\\envs\\NLP_3A\\Lib\\site-packages\\torch\\_utils.py:831: UserWarning: TypedStorage is deprecated. It will be removed in the future and UntypedStorage will be the only storage class. This should only matter to you if you are using storages directly.  To access UntypedStorage directly, use tensor.untyped_storage() instead of tensor.storage()\n",
      "  return self.fget.__get__(instance, owner)()\n",
      "Some weights of the model checkpoint at pytorch_model.bin were not used when initializing CamembertForMaskedLM: ['roberta.pooler.dense.bias', 'roberta.pooler.dense.weight']\n",
      "- This IS expected if you are initializing CamembertForMaskedLM from the checkpoint of a model trained on another task or with another architecture (e.g. initializing a BertForSequenceClassification model from a BertForPreTraining model).\n",
      "- This IS NOT expected if you are initializing CamembertForMaskedLM from the checkpoint of a model that you expect to be exactly identical (initializing a BertForSequenceClassification model from a BertForSequenceClassification model).\n"
     ]
    }
   ],
   "source": [
    "config = CamembertConfig.from_json_file('config.json')\n",
    "CamemBert = CamembertForMaskedLM.from_pretrained('pytorch_model.bin',config=config)\n"
   ]
  },
  {
   "cell_type": "code",
   "execution_count": 16,
   "metadata": {},
   "outputs": [],
   "source": [
    "import pandas as pd\n",
    "import matplotlib.pyplot as plt\n",
    "import seaborn as sns\n",
    "\n"
   ]
  },
  {
   "cell_type": "code",
   "execution_count": 3,
   "metadata": {},
   "outputs": [
    {
     "data": {
      "text/html": [
       "<div>\n",
       "<style scoped>\n",
       "    .dataframe tbody tr th:only-of-type {\n",
       "        vertical-align: middle;\n",
       "    }\n",
       "\n",
       "    .dataframe tbody tr th {\n",
       "        vertical-align: top;\n",
       "    }\n",
       "\n",
       "    .dataframe thead th {\n",
       "        text-align: right;\n",
       "    }\n",
       "</style>\n",
       "<table border=\"1\" class=\"dataframe\">\n",
       "  <thead>\n",
       "    <tr style=\"text-align: right;\">\n",
       "      <th></th>\n",
       "      <th>id</th>\n",
       "      <th>category</th>\n",
       "      <th>subcategory</th>\n",
       "      <th>question</th>\n",
       "      <th>extra_description</th>\n",
       "      <th>article_ids</th>\n",
       "    </tr>\n",
       "  </thead>\n",
       "  <tbody>\n",
       "    <tr>\n",
       "      <th>0</th>\n",
       "      <td>1102</td>\n",
       "      <td>Travail</td>\n",
       "      <td>Travail et parentalité</td>\n",
       "      <td>Je suis travailleur salarié(e). Puis-je refuse...</td>\n",
       "      <td>Pendant la grossesse</td>\n",
       "      <td>22225,22226,22227,22228,22229,22230,22231,2223...</td>\n",
       "    </tr>\n",
       "    <tr>\n",
       "      <th>1</th>\n",
       "      <td>91</td>\n",
       "      <td>Argent</td>\n",
       "      <td>Dettes</td>\n",
       "      <td>Peut-on saisir tous mes revenus ?</td>\n",
       "      <td>Procédures de récupération des dettes, Récupér...</td>\n",
       "      <td>5853,5854,5855</td>\n",
       "    </tr>\n",
       "    <tr>\n",
       "      <th>2</th>\n",
       "      <td>474</td>\n",
       "      <td>Famille</td>\n",
       "      <td>Situation de couples</td>\n",
       "      <td>Je suis marié(e). Nous sommes mariés. Dois-je ...</td>\n",
       "      <td>Mariage</td>\n",
       "      <td>1096,1097,1098,1108,1109,1110</td>\n",
       "    </tr>\n",
       "    <tr>\n",
       "      <th>3</th>\n",
       "      <td>836</td>\n",
       "      <td>Logement</td>\n",
       "      <td>Location en Wallonie</td>\n",
       "      <td>Je mets un kot en location (bail de droit comm...</td>\n",
       "      <td>Mettre un logement en location (Wallonie), Doi...</td>\n",
       "      <td>12012,12030,12031,12032,12033,12034,12035</td>\n",
       "    </tr>\n",
       "    <tr>\n",
       "      <th>4</th>\n",
       "      <td>1079</td>\n",
       "      <td>Travail</td>\n",
       "      <td>Maladie - incapacité de travail</td>\n",
       "      <td>Suis-je payé pendant la procédure du trajet de...</td>\n",
       "      <td>Rupture du contrat de travail pour force majeu...</td>\n",
       "      <td>21114,21115,21116,21117,21118,21119,21120,2112...</td>\n",
       "    </tr>\n",
       "  </tbody>\n",
       "</table>\n",
       "</div>"
      ],
      "text/plain": [
       "     id  category                      subcategory  \\\n",
       "0  1102   Travail           Travail et parentalité   \n",
       "1    91    Argent                           Dettes   \n",
       "2   474   Famille             Situation de couples   \n",
       "3   836  Logement             Location en Wallonie   \n",
       "4  1079   Travail  Maladie - incapacité de travail   \n",
       "\n",
       "                                            question  \\\n",
       "0  Je suis travailleur salarié(e). Puis-je refuse...   \n",
       "1                  Peut-on saisir tous mes revenus ?   \n",
       "2  Je suis marié(e). Nous sommes mariés. Dois-je ...   \n",
       "3  Je mets un kot en location (bail de droit comm...   \n",
       "4  Suis-je payé pendant la procédure du trajet de...   \n",
       "\n",
       "                                   extra_description  \\\n",
       "0                               Pendant la grossesse   \n",
       "1  Procédures de récupération des dettes, Récupér...   \n",
       "2                                            Mariage   \n",
       "3  Mettre un logement en location (Wallonie), Doi...   \n",
       "4  Rupture du contrat de travail pour force majeu...   \n",
       "\n",
       "                                         article_ids  \n",
       "0  22225,22226,22227,22228,22229,22230,22231,2223...  \n",
       "1                                     5853,5854,5855  \n",
       "2                      1096,1097,1098,1108,1109,1110  \n",
       "3          12012,12030,12031,12032,12033,12034,12035  \n",
       "4  21114,21115,21116,21117,21118,21119,21120,2112...  "
      ]
     },
     "execution_count": 3,
     "metadata": {},
     "output_type": "execute_result"
    }
   ],
   "source": [
    "train_data = pd.read_csv('questions_train.csv')\n",
    "test_data = pd.read_csv('questions_test.csv')\n",
    "\n",
    "train_data.head()"
   ]
  },
  {
   "cell_type": "code",
   "execution_count": 4,
   "metadata": {},
   "outputs": [],
   "source": [
    "train_data = train_data[['category', 'question']]\n",
    "\n",
    "test_data = test_data[['category', 'question']]"
   ]
  },
  {
   "cell_type": "code",
   "execution_count": 5,
   "metadata": {},
   "outputs": [
    {
     "data": {
      "text/html": [
       "<div>\n",
       "<style scoped>\n",
       "    .dataframe tbody tr th:only-of-type {\n",
       "        vertical-align: middle;\n",
       "    }\n",
       "\n",
       "    .dataframe tbody tr th {\n",
       "        vertical-align: top;\n",
       "    }\n",
       "\n",
       "    .dataframe thead th {\n",
       "        text-align: right;\n",
       "    }\n",
       "</style>\n",
       "<table border=\"1\" class=\"dataframe\">\n",
       "  <thead>\n",
       "    <tr style=\"text-align: right;\">\n",
       "      <th></th>\n",
       "      <th>category</th>\n",
       "      <th>question</th>\n",
       "    </tr>\n",
       "  </thead>\n",
       "  <tbody>\n",
       "    <tr>\n",
       "      <th>0</th>\n",
       "      <td>Travail</td>\n",
       "      <td>Je suis travailleur salarié(e). Puis-je refuse...</td>\n",
       "    </tr>\n",
       "    <tr>\n",
       "      <th>1</th>\n",
       "      <td>Argent</td>\n",
       "      <td>Peut-on saisir tous mes revenus ?</td>\n",
       "    </tr>\n",
       "    <tr>\n",
       "      <th>2</th>\n",
       "      <td>Famille</td>\n",
       "      <td>Je suis marié(e). Nous sommes mariés. Dois-je ...</td>\n",
       "    </tr>\n",
       "    <tr>\n",
       "      <th>3</th>\n",
       "      <td>Logement</td>\n",
       "      <td>Je mets un kot en location (bail de droit comm...</td>\n",
       "    </tr>\n",
       "    <tr>\n",
       "      <th>4</th>\n",
       "      <td>Travail</td>\n",
       "      <td>Suis-je payé pendant la procédure du trajet de...</td>\n",
       "    </tr>\n",
       "  </tbody>\n",
       "</table>\n",
       "</div>"
      ],
      "text/plain": [
       "   category                                           question\n",
       "0   Travail  Je suis travailleur salarié(e). Puis-je refuse...\n",
       "1    Argent                  Peut-on saisir tous mes revenus ?\n",
       "2   Famille  Je suis marié(e). Nous sommes mariés. Dois-je ...\n",
       "3  Logement  Je mets un kot en location (bail de droit comm...\n",
       "4   Travail  Suis-je payé pendant la procédure du trajet de..."
      ]
     },
     "execution_count": 5,
     "metadata": {},
     "output_type": "execute_result"
    }
   ],
   "source": [
    "train_data.head()"
   ]
  },
  {
   "cell_type": "code",
   "execution_count": 6,
   "metadata": {},
   "outputs": [
    {
     "name": "stdout",
     "output_type": "stream",
     "text": [
      "<class 'pandas.core.frame.DataFrame'>\n",
      "RangeIndex: 886 entries, 0 to 885\n",
      "Data columns (total 2 columns):\n",
      " #   Column    Non-Null Count  Dtype \n",
      "---  ------    --------------  ----- \n",
      " 0   category  886 non-null    object\n",
      " 1   question  886 non-null    object\n",
      "dtypes: object(2)\n",
      "memory usage: 14.0+ KB\n"
     ]
    }
   ],
   "source": [
    "train_data.info()"
   ]
  },
  {
   "cell_type": "code",
   "execution_count": 7,
   "metadata": {},
   "outputs": [
    {
     "name": "stderr",
     "output_type": "stream",
     "text": [
      "C:\\Users\\mthia\\AppData\\Local\\Temp\\ipykernel_3804\\209884929.py:3: FutureWarning: \n",
      "\n",
      "Passing `palette` without assigning `hue` is deprecated and will be removed in v0.14.0. Assign the `x` variable to `hue` and set `legend=False` for the same effect.\n",
      "\n",
      "  sns.countplot(data=train_data, x='category', palette='viridis', width=0.4)\n",
      "c:\\Users\\mthia\\anaconda3\\envs\\NLP_3A\\Lib\\site-packages\\seaborn\\_base.py:949: FutureWarning: When grouping with a length-1 list-like, you will need to pass a length-1 tuple to get_group in a future version of pandas. Pass `(name,)` instead of `name` to silence this warning.\n",
      "  data_subset = grouped_data.get_group(pd_key)\n",
      "c:\\Users\\mthia\\anaconda3\\envs\\NLP_3A\\Lib\\site-packages\\seaborn\\_base.py:949: FutureWarning: When grouping with a length-1 list-like, you will need to pass a length-1 tuple to get_group in a future version of pandas. Pass `(name,)` instead of `name` to silence this warning.\n",
      "  data_subset = grouped_data.get_group(pd_key)\n",
      "c:\\Users\\mthia\\anaconda3\\envs\\NLP_3A\\Lib\\site-packages\\seaborn\\_base.py:949: FutureWarning: When grouping with a length-1 list-like, you will need to pass a length-1 tuple to get_group in a future version of pandas. Pass `(name,)` instead of `name` to silence this warning.\n",
      "  data_subset = grouped_data.get_group(pd_key)\n",
      "c:\\Users\\mthia\\anaconda3\\envs\\NLP_3A\\Lib\\site-packages\\seaborn\\_base.py:949: FutureWarning: When grouping with a length-1 list-like, you will need to pass a length-1 tuple to get_group in a future version of pandas. Pass `(name,)` instead of `name` to silence this warning.\n",
      "  data_subset = grouped_data.get_group(pd_key)\n",
      "c:\\Users\\mthia\\anaconda3\\envs\\NLP_3A\\Lib\\site-packages\\seaborn\\_base.py:949: FutureWarning: When grouping with a length-1 list-like, you will need to pass a length-1 tuple to get_group in a future version of pandas. Pass `(name,)` instead of `name` to silence this warning.\n",
      "  data_subset = grouped_data.get_group(pd_key)\n",
      "c:\\Users\\mthia\\anaconda3\\envs\\NLP_3A\\Lib\\site-packages\\seaborn\\_base.py:949: FutureWarning: When grouping with a length-1 list-like, you will need to pass a length-1 tuple to get_group in a future version of pandas. Pass `(name,)` instead of `name` to silence this warning.\n",
      "  data_subset = grouped_data.get_group(pd_key)\n",
      "c:\\Users\\mthia\\anaconda3\\envs\\NLP_3A\\Lib\\site-packages\\seaborn\\_base.py:949: FutureWarning: When grouping with a length-1 list-like, you will need to pass a length-1 tuple to get_group in a future version of pandas. Pass `(name,)` instead of `name` to silence this warning.\n",
      "  data_subset = grouped_data.get_group(pd_key)\n"
     ]
    },
    {
     "data": {
      "image/png": "[encoded data removed]",
      "text/plain": [
       "<Figure size 1000x400 with 1 Axes>"
      ]
     },
     "metadata": {},
     "output_type": "display_data"
    }
   ],
   "source": [
    "# Afficher le nombre d'occurrences de chaque catégorie dans le jeu de données d'entrainement\n",
    "plt.figure(figsize=(10, 4))\n",
    "sns.countplot(data=train_data, x='category', palette='viridis', width=0.4)\n",
    "plt.title('Histogramme des Catégories: TrainSet')\n",
    "plt.xlabel('Catégorie')\n",
    "plt.ylabel('Nombre d\\'occurrences')\n",
    "plt.xticks(rotation=45)\n",
    "plt.show()\n"
   ]
  },
  {
   "cell_type": "code",
   "execution_count": 13,
   "metadata": {},
   "outputs": [
    {
     "data": {
      "image/png": "[encoded data removed]",
      "text/plain": [
       "<Figure size 1000x600 with 1 Axes>"
      ]
     },
     "metadata": {},
     "output_type": "display_data"
    }
   ],
   "source": [
    "\n",
    "train_data['question_length'] = train_data['question'].apply(lambda x: len(x))\n",
    "\n",
    "plt.figure(figsize=(10, 6))\n",
    "sns.histplot(data=train_data, x='question_length', bins=30, color='skyblue', edgecolor='black', kde=False)\n",
    "plt.title('Distribution des Longueurs de Questions dans le Jeu de Données d\\'Entraînement')\n",
    "plt.xlabel('Longueur de la Question (Nombre de Mots)')\n",
    "plt.ylabel('Fréquence')\n",
    "plt.show()\n",
    "\n",
    " \n"
   ]
  },
  {
   "cell_type": "code",
   "execution_count": 10,
   "metadata": {},
   "outputs": [
    {
     "name": "stdout",
     "output_type": "stream",
     "text": [
      "False\n"
     ]
    }
   ],
   "source": [
    "# Notamment, aucune phrase ne comporte plus de 512 caractères, et donc aucune phrase ne comportera plus de 512 tokens:\n",
    "print(train_data[\"question_length\"].any()>512)"
   ]
  },
  {
   "cell_type": "code",
   "execution_count": 8,
   "metadata": {},
   "outputs": [],
   "source": [
    "tokenizer = AutoTokenizer.from_pretrained('camembert-base')\n"
   ]
  },
  {
   "cell_type": "code",
   "execution_count": 10,
   "metadata": {},
   "outputs": [
    {
     "name": "stdout",
     "output_type": "stream",
     "text": [
      "     id  category                      subcategory  \\\n",
      "0  1102   Travail           Travail et parentalité   \n",
      "1    91    Argent                           Dettes   \n",
      "2   474   Famille             Situation de couples   \n",
      "3   836  Logement             Location en Wallonie   \n",
      "4  1079   Travail  Maladie - incapacité de travail   \n",
      "\n",
      "                                            question  \\\n",
      "0  Je suis travailleur salarié(e). Puis-je refuse...   \n",
      "1                  Peut-on saisir tous mes revenus ?   \n",
      "2  Je suis marié(e). Nous sommes mariés. Dois-je ...   \n",
      "3  Je mets un kot en location (bail de droit comm...   \n",
      "4  Suis-je payé pendant la procédure du trajet de...   \n",
      "\n",
      "                                   extra_description  \\\n",
      "0                               Pendant la grossesse   \n",
      "1  Procédures de récupération des dettes, Récupér...   \n",
      "2                                            Mariage   \n",
      "3  Mettre un logement en location (Wallonie), Doi...   \n",
      "4  Rupture du contrat de travail pour force majeu...   \n",
      "\n",
      "                                         article_ids  \n",
      "0  22225,22226,22227,22228,22229,22230,22231,2223...  \n",
      "1                                     5853,5854,5855  \n",
      "2                      1096,1097,1098,1108,1109,1110  \n",
      "3          12012,12030,12031,12032,12033,12034,12035  \n",
      "4  21114,21115,21116,21117,21118,21119,21120,2112...  \n"
     ]
    }
   ],
   "source": [
    "# obliger de changer comme ça les données pour pouvoir utiliser DataLoader de torch avec csv file\n",
    "class CustomDataset(Dataset):\n",
    "    def __init__(self, csv_file, transform=None):\n",
    "        self.data = pd.read_csv(csv_file)\n",
    "        self.transform = transform\n",
    "\n",
    "    def __len__(self):\n",
    "        return len(self.data)\n",
    "\n",
    "    def __getitem__(self, idx):\n",
    "        sample = self.data.iloc[idx]\n",
    "        if self.transform:\n",
    "            sample = self.transform(sample)\n",
    "        return sample\n",
    "\n",
    "train_dataset = CustomDataset('questions_train.csv')\n",
    "test_dataset = CustomDataset('questions_test.csv')\n",
    "\n",
    "# Display the head of the dataset\n",
    "print(train_dataset.data.head())"
   ]
  },
  {
   "cell_type": "code",
   "execution_count": 11,
   "metadata": {},
   "outputs": [
    {
     "name": "stdout",
     "output_type": "stream",
     "text": [
      "Nombre de classes : [0 1 2 3 4 5 6]\n"
     ]
    }
   ],
   "source": [
    "# Définir la correspondance des catégories avec des valeurs numériques\n",
    "category_mapping = {'Travail': 0, 'Argent': 1, 'Famille': 2, 'Logement': 3, 'Protection sociale': 4, 'Justice': 5, 'Etrangers': 6}\n",
    "\n",
    "# Appliquer la correspondance au DataFrame\n",
    "train_dataset.data['labels'] = train_dataset.data['category'].map(category_mapping)\n",
    "test_dataset.data['labels'] = test_dataset.data['category'].map(category_mapping)\n",
    "\n",
    "# Vérifier les valeurs uniques dans la nouvelle colonne\n",
    "unique_categories_numeric = train_dataset.data['labels'].unique()\n",
    "print(\"Nombre de classes :\", unique_categories_numeric)\n",
    "\n",
    "\n"
   ]
  },
  {
   "cell_type": "code",
   "execution_count": 12,
   "metadata": {},
   "outputs": [
    {
     "name": "stdout",
     "output_type": "stream",
     "text": [
      "Nombre de classes : 7\n"
     ]
    }
   ],
   "source": [
    "num_category= train_dataset.data[\"labels\"].nunique()\n",
    "print(\"Nombre de classes :\", num_category)\n"
   ]
  },
  {
   "cell_type": "code",
   "execution_count": 16,
   "metadata": {},
   "outputs": [],
   "source": [
    "# Utilisons maintenant CamemBERT afin d’obtenir une représentation vectorielle de chacun des messages!\n",
    "def tokernize_batch(samples, tokenizer):\n",
    "    text = [sample[\"question\"] for sample in samples]\n",
    "    category = [sample['category'] for sample in samples]\n",
    "    labels = torch.tensor([sample[\"labels\"] for sample in samples])\n",
    "\n",
    "\n",
    "    tokens = tokenizer(text, padding='longest', return_tensors='pt')\n",
    "    return {\"input_ids\": tokens.input_ids, \"attention_mask\": tokens.attention_mask,\"labels\": labels, \"category\": category, \"sentences\": text}\n"
   ]
  },
  {
   "cell_type": "code",
   "execution_count": 17,
   "metadata": {},
   "outputs": [
    {
     "data": {
      "text/plain": [
       "{'input_ids': tensor([[    5,   877,   264,    26,   662,  3528,    13,  2196, 26826,    15,\n",
       "           3273,   106,     6,     1,     1,     1,     1,     1,     1,     1,\n",
       "              1,     1,     1,     1,     1,     1,     1,     1,     1,     1,\n",
       "              1,     1,     1,     1,     1,     1,     1,     1,     1,     1,\n",
       "              1,     1,     1,     1,     1],\n",
       "         [    5,   407,  2669,     8,   125,   155,  5041,     8,  1531,    14,\n",
       "             18,    11,  4072,    30,    26,   144, 11224,    35,    15,  3273,\n",
       "            106,     6,     1,     1,     1,     1,     1,     1,     1,     1,\n",
       "              1,     1,     1,     1,     1,     1,     1,     1,     1,     1,\n",
       "              1,     1,     1,     1,     1],\n",
       "         [    5,   799,    85,    86,    16,  2221,  6982,    35,    25,   347,\n",
       "              8,  1052,    22, 16755,   106,     6,     1,     1,     1,     1,\n",
       "              1,     1,     1,     1,     1,     1,     1,     1,     1,     1,\n",
       "              1,     1,     1,     1,     1,     1,     1,     1,     1,     1,\n",
       "              1,     1,     1,     1,     1],\n",
       "         [    5,  7363,    56,    19,  1712,    86,    50,    45,  8746,    34,\n",
       "            129,  8177,   106,     6,     1,     1,     1,     1,     1,     1,\n",
       "              1,     1,     1,     1,     1,     1,     1,     1,     1,     1,\n",
       "              1,     1,     1,     1,     1,     1,     1,     1,     1,     1,\n",
       "              1,     1,     1,     1,     1],\n",
       "         [    5,   100,  1245,    42,   155,   401,    22,  2202,     9,   121,\n",
       "             11,    73,    23,   851,    22,  2202,     9,   100,   146,  8172,\n",
       "              9,    61,   928,   104,    26,   144,  6541,    27,    50, 15104,\n",
       "             10,    35,   129,   851,   106,     6,     1,     1,     1,     1,\n",
       "              1,     1,     1,     1,     1],\n",
       "         [    5,  1034,    12,    41,    26,   291,    27,    50,   812,    86,\n",
       "             50,  4963,    10,    23,  2601,  5047,    47,    23,  8326,  5957,\n",
       "            362, 13497,    15,   129,  2025, 10758,   106,     6,     1,     1,\n",
       "              1,     1,     1,     1,     1,     1,     1,     1,     1,     1,\n",
       "              1,     1,     1,     1,     1],\n",
       "         [    5,   799,    48,   507,    26,   110,    26,    62,    86,    50,\n",
       "             45,  8746,    34,    17,    12, 17080,  8790,  3927,    29,    16,\n",
       "           3677,   106,     6,     1,     1,     1,     1,     1,     1,     1,\n",
       "              1,     1,     1,     1,     1,     1,     1,     1,     1,     1,\n",
       "              1,     1,     1,     1,     1],\n",
       "         [    5,   100,  8692,     9,   160,  2014,    26,   662,    21, 25892,\n",
       "             28,  2871,     8,   129,  6291,    24,  8692,    81,   106,     6,\n",
       "              1,     1,     1,     1,     1,     1,     1,     1,     1,     1,\n",
       "              1,     1,     1,     1,     1,     1,     1,     1,     1,     1,\n",
       "              1,     1,     1,     1,     1],\n",
       "         [    5,   160,  2014,    26,   662,   190,    17,    11,  1311,     8,\n",
       "             17,    12,   369,  7514,    24,   350,    22,   866,    42,   129,\n",
       "            851,   106,     6,     1,     1,     1,     1,     1,     1,     1,\n",
       "              1,     1,     1,     1,     1,     1,     1,     1,     1,     1,\n",
       "              1,     1,     1,     1,     1],\n",
       "         [    5,   841, 11409,    23,  2727,   192,    13,  1141,    25,  8928,\n",
       "           2220,   466,    16,  4410,   106,     6,     1,     1,     1,     1,\n",
       "              1,     1,     1,     1,     1,     1,     1,     1,     1,     1,\n",
       "              1,     1,     1,     1,     1,     1,     1,     1,     1,     1,\n",
       "              1,     1,     1,     1,     1],\n",
       "         [    5,   100,   146,  4329,     9,   100,  1064,   324,    22,  2202,\n",
       "            176,    36,   175,   205,   134,     9,  1494,    26,   662, 11409,\n",
       "             23,  2727,    22,   203,    18,    11,  3087,  8347,   913,   155,\n",
       "            400,     8,  7212,   106,     6,     1,     1,     1,     1,     1,\n",
       "              1,     1,     1,     1,     1],\n",
       "         [    5,   841,    14,    15,  1262,  5802,    52,    11, 16203,   113,\n",
       "             19,  4307,     8,  1711,    15,  3273,   106,     6,     1,     1,\n",
       "              1,     1,     1,     1,     1,     1,     1,     1,     1,     1,\n",
       "              1,     1,     1,     1,     1,     1,     1,     1,     1,     1,\n",
       "              1,     1,     1,     1,     1],\n",
       "         [    5,   170,   464, 13223,     7,   796,   373, 21579,   127,   851,\n",
       "            106,     6,     1,     1,     1,     1,     1,     1,     1,     1,\n",
       "              1,     1,     1,     1,     1,     1,     1,     1,     1,     1,\n",
       "              1,     1,     1,     1,     1,     1,     1,     1,     1,     1,\n",
       "              1,     1,     1,     1,     1],\n",
       "         [    5,   841,   328,   259,    36,  8725,     8,  1330,  1909,    15,\n",
       "           3273,   106,     6,     1,     1,     1,     1,     1,     1,     1,\n",
       "              1,     1,     1,     1,     1,     1,     1,     1,     1,     1,\n",
       "              1,     1,     1,     1,     1,     1,     1,     1,     1,     1,\n",
       "              1,     1,     1,     1,     1],\n",
       "         [    5,  7762,  3739,  1749,    26,   662,  1728,    22,   376,    27,\n",
       "           9813,    15,  3273,   106,     6,     1,     1,     1,     1,     1,\n",
       "              1,     1,     1,     1,     1,     1,     1,     1,     1,     1,\n",
       "              1,     1,     1,     1,     1,     1,     1,     1,     1,     1,\n",
       "              1,     1,     1,     1,     1],\n",
       "         [    5,    74,   882,    45,    56,    34, 13223,   760,     9,    61,\n",
       "            907,     8,    17,    11,  1555,    30,  6632,    15,  1122,    11,\n",
       "             59,    18,    11,   369,    27,    16,   819,     9,  1494,    26,\n",
       "            662,    98,  3523,    79,    16,   819,     8,   129,   851,  8374,\n",
       "             15,    13,  1637,   106,     6]]),\n",
       " 'attention_mask': tensor([[1, 1, 1, 1, 1, 1, 1, 1, 1, 1, 1, 1, 1, 0, 0, 0, 0, 0, 0, 0, 0, 0, 0, 0,\n",
       "          0, 0, 0, 0, 0, 0, 0, 0, 0, 0, 0, 0, 0, 0, 0, 0, 0, 0, 0, 0, 0],\n",
       "         [1, 1, 1, 1, 1, 1, 1, 1, 1, 1, 1, 1, 1, 1, 1, 1, 1, 1, 1, 1, 1, 1, 0, 0,\n",
       "          0, 0, 0, 0, 0, 0, 0, 0, 0, 0, 0, 0, 0, 0, 0, 0, 0, 0, 0, 0, 0],\n",
       "         [1, 1, 1, 1, 1, 1, 1, 1, 1, 1, 1, 1, 1, 1, 1, 1, 0, 0, 0, 0, 0, 0, 0, 0,\n",
       "          0, 0, 0, 0, 0, 0, 0, 0, 0, 0, 0, 0, 0, 0, 0, 0, 0, 0, 0, 0, 0],\n",
       "         [1, 1, 1, 1, 1, 1, 1, 1, 1, 1, 1, 1, 1, 1, 0, 0, 0, 0, 0, 0, 0, 0, 0, 0,\n",
       "          0, 0, 0, 0, 0, 0, 0, 0, 0, 0, 0, 0, 0, 0, 0, 0, 0, 0, 0, 0, 0],\n",
       "         [1, 1, 1, 1, 1, 1, 1, 1, 1, 1, 1, 1, 1, 1, 1, 1, 1, 1, 1, 1, 1, 1, 1, 1,\n",
       "          1, 1, 1, 1, 1, 1, 1, 1, 1, 1, 1, 1, 0, 0, 0, 0, 0, 0, 0, 0, 0],\n",
       "         [1, 1, 1, 1, 1, 1, 1, 1, 1, 1, 1, 1, 1, 1, 1, 1, 1, 1, 1, 1, 1, 1, 1, 1,\n",
       "          1, 1, 1, 1, 0, 0, 0, 0, 0, 0, 0, 0, 0, 0, 0, 0, 0, 0, 0, 0, 0],\n",
       "         [1, 1, 1, 1, 1, 1, 1, 1, 1, 1, 1, 1, 1, 1, 1, 1, 1, 1, 1, 1, 1, 1, 1, 0,\n",
       "          0, 0, 0, 0, 0, 0, 0, 0, 0, 0, 0, 0, 0, 0, 0, 0, 0, 0, 0, 0, 0],\n",
       "         [1, 1, 1, 1, 1, 1, 1, 1, 1, 1, 1, 1, 1, 1, 1, 1, 1, 1, 1, 1, 0, 0, 0, 0,\n",
       "          0, 0, 0, 0, 0, 0, 0, 0, 0, 0, 0, 0, 0, 0, 0, 0, 0, 0, 0, 0, 0],\n",
       "         [1, 1, 1, 1, 1, 1, 1, 1, 1, 1, 1, 1, 1, 1, 1, 1, 1, 1, 1, 1, 1, 1, 1, 0,\n",
       "          0, 0, 0, 0, 0, 0, 0, 0, 0, 0, 0, 0, 0, 0, 0, 0, 0, 0, 0, 0, 0],\n",
       "         [1, 1, 1, 1, 1, 1, 1, 1, 1, 1, 1, 1, 1, 1, 1, 1, 0, 0, 0, 0, 0, 0, 0, 0,\n",
       "          0, 0, 0, 0, 0, 0, 0, 0, 0, 0, 0, 0, 0, 0, 0, 0, 0, 0, 0, 0, 0],\n",
       "         [1, 1, 1, 1, 1, 1, 1, 1, 1, 1, 1, 1, 1, 1, 1, 1, 1, 1, 1, 1, 1, 1, 1, 1,\n",
       "          1, 1, 1, 1, 1, 1, 1, 1, 1, 1, 1, 0, 0, 0, 0, 0, 0, 0, 0, 0, 0],\n",
       "         [1, 1, 1, 1, 1, 1, 1, 1, 1, 1, 1, 1, 1, 1, 1, 1, 1, 1, 0, 0, 0, 0, 0, 0,\n",
       "          0, 0, 0, 0, 0, 0, 0, 0, 0, 0, 0, 0, 0, 0, 0, 0, 0, 0, 0, 0, 0],\n",
       "         [1, 1, 1, 1, 1, 1, 1, 1, 1, 1, 1, 1, 0, 0, 0, 0, 0, 0, 0, 0, 0, 0, 0, 0,\n",
       "          0, 0, 0, 0, 0, 0, 0, 0, 0, 0, 0, 0, 0, 0, 0, 0, 0, 0, 0, 0, 0],\n",
       "         [1, 1, 1, 1, 1, 1, 1, 1, 1, 1, 1, 1, 1, 0, 0, 0, 0, 0, 0, 0, 0, 0, 0, 0,\n",
       "          0, 0, 0, 0, 0, 0, 0, 0, 0, 0, 0, 0, 0, 0, 0, 0, 0, 0, 0, 0, 0],\n",
       "         [1, 1, 1, 1, 1, 1, 1, 1, 1, 1, 1, 1, 1, 1, 1, 0, 0, 0, 0, 0, 0, 0, 0, 0,\n",
       "          0, 0, 0, 0, 0, 0, 0, 0, 0, 0, 0, 0, 0, 0, 0, 0, 0, 0, 0, 0, 0],\n",
       "         [1, 1, 1, 1, 1, 1, 1, 1, 1, 1, 1, 1, 1, 1, 1, 1, 1, 1, 1, 1, 1, 1, 1, 1,\n",
       "          1, 1, 1, 1, 1, 1, 1, 1, 1, 1, 1, 1, 1, 1, 1, 1, 1, 1, 1, 1, 1]]),\n",
       " 'labels': tensor([3, 1, 3, 1, 6, 0, 5, 2, 2, 4, 6, 3, 2, 3, 3, 2]),\n",
       " 'category': ['Logement',\n",
       "  'Argent',\n",
       "  'Logement',\n",
       "  'Argent',\n",
       "  'Etrangers',\n",
       "  'Travail',\n",
       "  'Justice',\n",
       "  'Famille',\n",
       "  'Famille',\n",
       "  'Protection sociale',\n",
       "  'Etrangers',\n",
       "  'Logement',\n",
       "  'Famille',\n",
       "  'Logement',\n",
       "  'Logement',\n",
       "  'Famille'],\n",
       " 'sentences': ['Quand puis-je récupérer la garantie locative à Bruxelles ?',\n",
       "  \"Après combien de temps ma facture de gaz et d'électricité est-elle prescrite à Bruxelles ?\",\n",
       "  'Que faire si le propriétaire abuse du droit de visite en Wallonie ?',\n",
       "  'Quels sont les risques si je ne paie pas mon stationnement ?',\n",
       "  \"Je vis avec ma famille en Belgique. J'ai un enfant en Belgique. Je suis étranger. La commune peut-elle refuser que je reconnaisse mon enfant ?\",\n",
       "  'Qu’est-ce que je risque si je remets un faux diplôme ou un CV trafiqué à mon futur employeur ?',\n",
       "  'Que se passe-t-il si je ne paie pas l’amende pénale prévue dans le jugement ?',\n",
       "  'Je divorce. Dois-je invoquer une faute de mon conjoint pour divorcer ?',\n",
       "  \"Dois-je avoir l'accord de l’autre parent pour partir en vacances avec mon enfant ?\",\n",
       "  'Comment introduire un recours contre la décision du CPAS devant le tribunal ?',\n",
       "  \"Je suis majeur. Je séjourne en Belgique depuis au moins 5 ans. Puis-je introduire un recours en cas d'avis négatif concernant ma demande de nationalité ?\",\n",
       "  \"Comment et à quelle fréquence s'organisent les visites de domicile à Bruxelles ?\",\n",
       "  'Nous sommes mariés, quel nom portera notre enfant ?',\n",
       "  'Comment mettre fin au bail de commun accord à Bruxelles ?',\n",
       "  'Quelles charges dois-je payer en tant que locataire à Bruxelles ?',\n",
       "  \"Les parents ne sont pas mariés ensemble. La mère de l'enfant est mariée à quelqu'un d'autre que le père. Puis-je être considéré comme le père de mon enfant décédé à la naissance ?\"]}"
      ]
     },
     "execution_count": 17,
     "metadata": {},
     "output_type": "execute_result"
    }
   ],
   "source": [
    "train_DataLoader = DataLoader(train_dataset, \n",
    "                              collate_fn=functools.partial(tokernize_batch, tokenizer = tokenizer), \n",
    "                              batch_size=16,\n",
    "                              shuffle=True)\n",
    "batch = next(iter(train_DataLoader))  \n",
    "batch\n",
    "# les input du model Camembert"
   ]
  },
  {
   "cell_type": "code",
   "execution_count": 57,
   "metadata": {},
   "outputs": [
    {
     "name": "stdout",
     "output_type": "stream",
     "text": [
      "<s> Je dépose plainte auprès d'un médiateur. L'entreprise est située en Belgique. Dans combien de temps le médiateur pour le consommateur me répondra?</s><pad><pad><pad><pad><pad><pad><pad><pad><pad><pad><pad><pad>\n",
      "<s> Quelle est la différence entre le forfait et la provision pour charges à Bruxelles?</s><pad><pad><pad><pad><pad><pad><pad><pad><pad><pad><pad><pad><pad><pad><pad><pad><pad><pad><pad><pad><pad><pad><pad><pad><pad><pad>\n",
      "<s> Comment se déroule la saisie immobilière?</s><pad><pad><pad><pad><pad><pad><pad><pad><pad><pad><pad><pad><pad><pad><pad><pad><pad><pad><pad><pad><pad><pad><pad><pad><pad><pad><pad><pad><pad><pad><pad><pad><pad><pad>\n",
      "<s> Dégâts dans le logement : qui paie quoi à Bruxelles?</s><pad><pad><pad><pad><pad><pad><pad><pad><pad><pad><pad><pad><pad><pad><pad><pad><pad><pad><pad><pad><pad><pad><pad><pad><pad><pad><pad>\n",
      "<s> Suis-je obligé de me présenter à l’audience devant le tribunal de police?</s><pad><pad><pad><pad><pad><pad><pad><pad><pad><pad><pad><pad><pad><pad><pad><pad><pad><pad><pad><pad><pad><pad><pad><pad>\n",
      "<s> Que faire si je ne suis pas d'accord avec une autre décision du juge?</s><pad><pad><pad><pad><pad><pad><pad><pad><pad><pad><pad><pad><pad><pad><pad><pad><pad><pad><pad><pad><pad><pad><pad><pad>\n",
      "<s> Je divorce. Je divorce pour cause de désunion irrémédiable. Nous sommes d’accord de divorcer. Comment introduire ensemble une demande de divorce pour cause de désunion irrémédiable?</s>\n",
      "<s> Après combien de temps ma facture de gaz et d'électricité est-elle prescrite à Bruxelles?</s><pad><pad><pad><pad><pad><pad><pad><pad><pad><pad><pad><pad><pad><pad><pad><pad><pad><pad><pad><pad><pad>\n",
      "<s> Je suis parent. L'hébergement alterné empêche-t-il le paiement d'une contribution alimentaire?</s><pad><pad><pad><pad><pad><pad><pad><pad><pad><pad><pad><pad><pad><pad><pad><pad><pad><pad>\n",
      "<s> Hébergement d'amis : le propriétaire peut-il m'interdire de le faire à Bruxelles?</s><pad><pad><pad><pad><pad><pad><pad><pad><pad><pad><pad><pad><pad><pad><pad><pad><pad><pad><pad><pad>\n",
      "<s> J'introduis une demande en justice. Combien dois-je payer pour introduire une procédure en justice?</s><pad><pad><pad><pad><pad><pad><pad><pad><pad><pad><pad><pad><pad><pad><pad><pad><pad><pad><pad><pad><pad>\n",
      "<s> Quels sont les revenus pris en compte pour l'aide juridique si je vis seul?</s><pad><pad><pad><pad><pad><pad><pad><pad><pad><pad><pad><pad><pad><pad><pad><pad><pad><pad><pad><pad><pad><pad><pad><pad>\n",
      "<s> Un ami veut me prêter de l'argent. Comment faire?</s><pad><pad><pad><pad><pad><pad><pad><pad><pad><pad><pad><pad><pad><pad><pad><pad><pad><pad><pad><pad><pad><pad><pad><pad><pad><pad><pad><pad>\n",
      "<s> Mon propriétaire ne fait pas les réparations nécessaires, puis-je rompre le bail à Bruxelles?</s><pad><pad><pad><pad><pad><pad><pad><pad><pad><pad><pad><pad><pad><pad><pad><pad><pad><pad><pad><pad><pad><pad><pad>\n",
      "<s> J'héberge un ami/un proche. Mon ami est domicilié chez moi. Peut-on saisir mes meubles?</s><pad><pad><pad><pad><pad><pad><pad><pad><pad><pad><pad><pad><pad><pad><pad><pad><pad><pad>\n",
      "<s> Les créanciers peuvent-ils s'opposer à ce que la personne nommée par le juge soit médiateur de dettes du RCD?</s><pad><pad><pad><pad><pad><pad><pad><pad><pad><pad><pad><pad><pad><pad>\n"
     ]
    }
   ],
   "source": [
    "print(\"\\n\".join(tokenizer.batch_decode(batch[\"input_ids\"])))"
   ]
  },
  {
   "cell_type": "code",
   "execution_count": 18,
   "metadata": {},
   "outputs": [],
   "source": [
    "test_DataLoader = DataLoader(test_dataset, \n",
    "                              collate_fn=functools.partial(tokernize_batch, tokenizer = tokenizer), \n",
    "                              batch_size=16,\n",
    "                              shuffle=False)"
   ]
  },
  {
   "cell_type": "markdown",
   "metadata": {},
   "source": [
    "### Preparation du modèle avec Pytorch Lightning "
   ]
  },
  {
   "cell_type": "code",
   "execution_count": 20,
   "metadata": {},
   "outputs": [],
   "source": [
    "class LightningModel(pl.LightningModule):\n",
    "    def __init__(self, model_name, num_labels, lr, weight_decay, from_scratch=False):\n",
    "        super().__init__()\n",
    "        self.save_hyperparameters()\n",
    "        if from_scratch:\n",
    "            # Si `from_scratch` est vrai, on charge uniquement la config (nombre de couches, hidden size, etc.) et pas les poids du modèle \n",
    "            config = AutoConfig.from_pretrained(\n",
    "                model_name, num_labels=num_labels\n",
    "            )\n",
    "            self.model = AutoModelForSequenceClassification.from_config(config)\n",
    "        else:\n",
    "            # Cette méthode permet de télécharger le bon modèle pré-entraîné directement depuis le Hub de HuggingFace sur lequel sont stockés de nombreux modèles\n",
    "            self.model = AutoModelForSequenceClassification.from_pretrained(\n",
    "                model_name, num_labels=num_labels\n",
    "            )\n",
    "        self.lr = lr\n",
    "        self.weight_decay = weight_decay\n",
    "        self.num_labels = self.model.num_labels\n",
    "\n",
    "    def forward(self, batch):\n",
    "        return self.model(\n",
    "            input_ids=batch[\"input_ids\"],\n",
    "            attention_mask=batch[\"attention_mask\"]\n",
    "        )\n",
    "\n",
    "    def training_step(self, batch):\n",
    "        out = self.forward(batch)\n",
    "\n",
    "        logits = out.logits\n",
    "        # -------- MASKED --------\n",
    "        loss_fn = torch.nn.CrossEntropyLoss()\n",
    "        loss = loss_fn(logits.view(-1, self.num_labels), batch[\"labels\"].view(-1))\n",
    "\n",
    "        # ------ END MASKED ------\n",
    "\n",
    "        self.log(\"train/loss\", loss)\n",
    "\n",
    "        return loss\n",
    "\n",
    "    def validation_step(self, batch, batch_index):\n",
    "        labels= batch[\"labels\"]\n",
    "        out = self.forward(batch)\n",
    "\n",
    "        preds = torch.max(out.logits, -1).indices\n",
    "        # -------- MASKED --------\n",
    "        acc = (batch[\"labels\"] == preds).float().mean()\n",
    "        # ------ END MASKED ------\n",
    "        self.log(\"valid/acc\", acc)\n",
    "\n",
    "        f1 = f1_score(batch[\"labels\"].cpu().tolist(), preds.cpu().tolist(), average=\"macro\")\n",
    "        self.log(\"valid/f1\", f1)\n",
    "\n",
    "    def predict_step(self, batch, batch_idx):\n",
    "        \"\"\"La fonction predict step facilite la prédiction de données. Elle est \n",
    "        similaire à `validation_step`, sans le calcul des métriques.\n",
    "        \"\"\"\n",
    "        out = self.forward(batch)\n",
    "\n",
    "        return torch.max(out.logits, -1).indices\n",
    "\n",
    "    def configure_optimizers(self):\n",
    "        return torch.optim.AdamW(\n",
    "            self.model.parameters(), \n",
    "            lr=self.lr, \n",
    "            weight_decay=self.weight_decay\n",
    "        )"
   ]
  },
  {
   "cell_type": "code",
   "execution_count": 21,
   "metadata": {},
   "outputs": [
    {
     "name": "stderr",
     "output_type": "stream",
     "text": [
      "Some weights of CamembertForSequenceClassification were not initialized from the model checkpoint at camembert-base and are newly initialized: ['classifier.dense.bias', 'classifier.dense.weight', 'classifier.out_proj.bias', 'classifier.out_proj.weight']\n",
      "You should probably TRAIN this model on a down-stream task to be able to use it for predictions and inference.\n"
     ]
    }
   ],
   "source": [
    "lightning_model = LightningModel(\"camembert-base\", num_category, lr=3e-5, weight_decay=0.)\n"
   ]
  },
  {
   "cell_type": "code",
   "execution_count": 24,
   "metadata": {},
   "outputs": [
    {
     "name": "stderr",
     "output_type": "stream",
     "text": [
      "GPU available: True (cuda), used: True\n",
      "TPU available: False, using: 0 TPU cores\n",
      "IPU available: False, using: 0 IPUs\n",
      "HPU available: False, using: 0 HPUs\n"
     ]
    }
   ],
   "source": [
    "model_checkpoint = pl.callbacks.ModelCheckpoint(monitor=\"valid/acc\", mode=\"max\")\n",
    "\n",
    "camembert_trainer = pl.Trainer(\n",
    "    max_epochs=20,\n",
    "    accelerator=\"auto\",\n",
    "    devices=\"auto\",\n",
    "    logger=TensorBoardLogger(save_dir=\"logs/\"),\n",
    "\n",
    "    callbacks=[\n",
    "        pl.callbacks.EarlyStopping(monitor=\"valid/acc\", patience=4, mode=\"max\"),\n",
    "        model_checkpoint,\n",
    "    ]\n",
    ")"
   ]
  },
  {
   "cell_type": "code",
   "execution_count": 25,
   "metadata": {},
   "outputs": [
    {
     "name": "stderr",
     "output_type": "stream",
     "text": [
      "You are using a CUDA device ('NVIDIA GeForce RTX 3060 Laptop GPU') that has Tensor Cores. To properly utilize them, you should set `torch.set_float32_matmul_precision('medium' | 'high')` which will trade-off precision for performance. For more details, read https://pytorch.org/docs/stable/generated/torch.set_float32_matmul_precision.html#torch.set_float32_matmul_precision\n",
      "LOCAL_RANK: 0 - CUDA_VISIBLE_DEVICES: [0]\n",
      "\n",
      "  | Name  | Type                               | Params\n",
      "-------------------------------------------------------------\n",
      "0 | model | CamembertForSequenceClassification | 110 M \n",
      "-------------------------------------------------------------\n",
      "110 M     Trainable params\n",
      "0         Non-trainable params\n",
      "110 M     Total params\n",
      "442.509   Total estimated model params size (MB)\n"
     ]
    },
    {
     "data": {
      "application/vnd.jupyter.widget-view+json": {
       "model_id": "b0077dfbe0b74e92add4ab642031a04b",
       "version_major": 2,
       "version_minor": 0
      },
      "text/plain": [
       "Sanity Checking: |          | 0/? [00:00<?, ?it/s]"
      ]
     },
     "metadata": {},
     "output_type": "display_data"
    },
    {
     "name": "stderr",
     "output_type": "stream",
     "text": [
      "c:\\Users\\mthia\\anaconda3\\envs\\NLP_3A\\Lib\\site-packages\\pytorch_lightning\\trainer\\connectors\\data_connector.py:441: The 'val_dataloader' does not have many workers which may be a bottleneck. Consider increasing the value of the `num_workers` argument` to `num_workers=15` in the `DataLoader` to improve performance.\n",
      "c:\\Users\\mthia\\anaconda3\\envs\\NLP_3A\\Lib\\site-packages\\pytorch_lightning\\utilities\\data.py:77: Trying to infer the `batch_size` from an ambiguous collection. The batch size we found is 16. To avoid any miscalculations, use `self.log(..., batch_size=batch_size)`.\n",
      "c:\\Users\\mthia\\anaconda3\\envs\\NLP_3A\\Lib\\site-packages\\pytorch_lightning\\trainer\\connectors\\data_connector.py:441: The 'train_dataloader' does not have many workers which may be a bottleneck. Consider increasing the value of the `num_workers` argument` to `num_workers=15` in the `DataLoader` to improve performance.\n"
     ]
    },
    {
     "data": {
      "application/vnd.jupyter.widget-view+json": {
       "model_id": "d6206e28708a4ad088cced1e795c648d",
       "version_major": 2,
       "version_minor": 0
      },
      "text/plain": [
       "Training: |          | 0/? [00:00<?, ?it/s]"
      ]
     },
     "metadata": {},
     "output_type": "display_data"
    },
    {
     "data": {
      "application/vnd.jupyter.widget-view+json": {
       "model_id": "eeaa1c7005d443399b25878051e56710",
       "version_major": 2,
       "version_minor": 0
      },
      "text/plain": [
       "Validation: |          | 0/? [00:00<?, ?it/s]"
      ]
     },
     "metadata": {},
     "output_type": "display_data"
    },
    {
     "name": "stderr",
     "output_type": "stream",
     "text": [
      "c:\\Users\\mthia\\anaconda3\\envs\\NLP_3A\\Lib\\site-packages\\pytorch_lightning\\utilities\\data.py:77: Trying to infer the `batch_size` from an ambiguous collection. The batch size we found is 14. To avoid any miscalculations, use `self.log(..., batch_size=batch_size)`.\n"
     ]
    },
    {
     "data": {
      "application/vnd.jupyter.widget-view+json": {
       "model_id": "c73b1318fc6f4c51a2fe0a67d0f4b8f3",
       "version_major": 2,
       "version_minor": 0
      },
      "text/plain": [
       "Validation: |          | 0/? [00:00<?, ?it/s]"
      ]
     },
     "metadata": {},
     "output_type": "display_data"
    },
    {
     "data": {
      "application/vnd.jupyter.widget-view+json": {
       "model_id": "ad2ef42274e84cec91d41750f606cbdc",
       "version_major": 2,
       "version_minor": 0
      },
      "text/plain": [
       "Validation: |          | 0/? [00:00<?, ?it/s]"
      ]
     },
     "metadata": {},
     "output_type": "display_data"
    },
    {
     "data": {
      "application/vnd.jupyter.widget-view+json": {
       "model_id": "abaa0371f3d1461d81b2507276a078db",
       "version_major": 2,
       "version_minor": 0
      },
      "text/plain": [
       "Validation: |          | 0/? [00:00<?, ?it/s]"
      ]
     },
     "metadata": {},
     "output_type": "display_data"
    },
    {
     "data": {
      "application/vnd.jupyter.widget-view+json": {
       "model_id": "8b6d8e7d765743c7a4248a7692c0202f",
       "version_major": 2,
       "version_minor": 0
      },
      "text/plain": [
       "Validation: |          | 0/? [00:00<?, ?it/s]"
      ]
     },
     "metadata": {},
     "output_type": "display_data"
    },
    {
     "data": {
      "application/vnd.jupyter.widget-view+json": {
       "model_id": "eb2c67e2a7804d349d92ee3807f58a42",
       "version_major": 2,
       "version_minor": 0
      },
      "text/plain": [
       "Validation: |          | 0/? [00:00<?, ?it/s]"
      ]
     },
     "metadata": {},
     "output_type": "display_data"
    },
    {
     "data": {
      "application/vnd.jupyter.widget-view+json": {
       "model_id": "0f99bf2257e34f10be2ca9cf1f8ecbd0",
       "version_major": 2,
       "version_minor": 0
      },
      "text/plain": [
       "Validation: |          | 0/? [00:00<?, ?it/s]"
      ]
     },
     "metadata": {},
     "output_type": "display_data"
    },
    {
     "data": {
      "application/vnd.jupyter.widget-view+json": {
       "model_id": "b0821e3c8d124415b102ba0e6e65e38f",
       "version_major": 2,
       "version_minor": 0
      },
      "text/plain": [
       "Validation: |          | 0/? [00:00<?, ?it/s]"
      ]
     },
     "metadata": {},
     "output_type": "display_data"
    },
    {
     "data": {
      "application/vnd.jupyter.widget-view+json": {
       "model_id": "cf08bdddbc0b425494e30c2c89a24c7b",
       "version_major": 2,
       "version_minor": 0
      },
      "text/plain": [
       "Validation: |          | 0/? [00:00<?, ?it/s]"
      ]
     },
     "metadata": {},
     "output_type": "display_data"
    },
    {
     "data": {
      "application/vnd.jupyter.widget-view+json": {
       "model_id": "b0196e3fbeec4a76b443b4b5107b4012",
       "version_major": 2,
       "version_minor": 0
      },
      "text/plain": [
       "Validation: |          | 0/? [00:00<?, ?it/s]"
      ]
     },
     "metadata": {},
     "output_type": "display_data"
    },
    {
     "data": {
      "application/vnd.jupyter.widget-view+json": {
       "model_id": "ac7727755b0e4687bff2fd5c3d714459",
       "version_major": 2,
       "version_minor": 0
      },
      "text/plain": [
       "Validation: |          | 0/? [00:00<?, ?it/s]"
      ]
     },
     "metadata": {},
     "output_type": "display_data"
    }
   ],
   "source": [
    "camembert_trainer.fit(lightning_model, train_dataloaders=train_DataLoader, val_dataloaders=test_DataLoader)\n"
   ]
  },
  {
   "cell_type": "code",
   "execution_count": 26,
   "metadata": {},
   "outputs": [
    {
     "name": "stderr",
     "output_type": "stream",
     "text": [
      "LOCAL_RANK: 0 - CUDA_VISIBLE_DEVICES: [0]\n",
      "c:\\Users\\mthia\\anaconda3\\envs\\NLP_3A\\Lib\\site-packages\\pytorch_lightning\\trainer\\connectors\\data_connector.py:441: The 'val_dataloader' does not have many workers which may be a bottleneck. Consider increasing the value of the `num_workers` argument` to `num_workers=15` in the `DataLoader` to improve performance.\n"
     ]
    },
    {
     "data": {
      "application/vnd.jupyter.widget-view+json": {
       "model_id": "d403f4450e23482dbebb3892ffc889d0",
       "version_major": 2,
       "version_minor": 0
      },
      "text/plain": [
       "Validation: |          | 0/? [00:00<?, ?it/s]"
      ]
     },
     "metadata": {},
     "output_type": "display_data"
    },
    {
     "data": {
      "text/html": [
       "<pre style=\"white-space:pre;overflow-x:auto;line-height:normal;font-family:Menlo,'DejaVu Sans Mono',consolas,'Courier New',monospace\">┏━━━━━━━━━━━━━━━━━━━━━━━━━━━┳━━━━━━━━━━━━━━━━━━━━━━━━━━━┓\n",
       "┃<span style=\"font-weight: bold\">      Validate metric      </span>┃<span style=\"font-weight: bold\">       DataLoader 0        </span>┃\n",
       "┡━━━━━━━━━━━━━━━━━━━━━━━━━━━╇━━━━━━━━━━━━━━━━━━━━━━━━━━━┩\n",
       "│<span style=\"color: #008080; text-decoration-color: #008080\">         valid/acc         </span>│<span style=\"color: #800080; text-decoration-color: #800080\">     0.954954981803894     </span>│\n",
       "│<span style=\"color: #008080; text-decoration-color: #008080\">         valid/f1          </span>│<span style=\"color: #800080; text-decoration-color: #800080\">     0.905487060546875     </span>│\n",
       "└───────────────────────────┴───────────────────────────┘\n",
       "</pre>\n"
      ],
      "text/plain": [
       "┏━━━━━━━━━━━━━━━━━━━━━━━━━━━┳━━━━━━━━━━━━━━━━━━━━━━━━━━━┓\n",
       "┃\u001b[1m \u001b[0m\u001b[1m     Validate metric     \u001b[0m\u001b[1m \u001b[0m┃\u001b[1m \u001b[0m\u001b[1m      DataLoader 0       \u001b[0m\u001b[1m \u001b[0m┃\n",
       "┡━━━━━━━━━━━━━━━━━━━━━━━━━━━╇━━━━━━━━━━━━━━━━━━━━━━━━━━━┩\n",
       "│\u001b[36m \u001b[0m\u001b[36m        valid/acc        \u001b[0m\u001b[36m \u001b[0m│\u001b[35m \u001b[0m\u001b[35m    0.954954981803894    \u001b[0m\u001b[35m \u001b[0m│\n",
       "│\u001b[36m \u001b[0m\u001b[36m        valid/f1         \u001b[0m\u001b[36m \u001b[0m│\u001b[35m \u001b[0m\u001b[35m    0.905487060546875    \u001b[0m\u001b[35m \u001b[0m│\n",
       "└───────────────────────────┴───────────────────────────┘\n"
      ]
     },
     "metadata": {},
     "output_type": "display_data"
    },
    {
     "data": {
      "text/plain": [
       "[{'valid/acc': 0.954954981803894, 'valid/f1': 0.905487060546875}]"
      ]
     },
     "execution_count": 26,
     "metadata": {},
     "output_type": "execute_result"
    }
   ],
   "source": [
    "camembert_trainer.validate(lightning_model, test_DataLoader)"
   ]
  },
  {
   "cell_type": "markdown",
   "metadata": {},
   "source": [
    "### Inférence avec le modèle entraîné\n"
   ]
  },
  {
   "cell_type": "code",
   "execution_count": 27,
   "metadata": {},
   "outputs": [
    {
     "name": "stdout",
     "output_type": "stream",
     "text": [
      "ID_TO_LABEL : {0: 'Travail', 1: 'Argent', 2: 'Famille', 3: 'Logement', 4: 'Protection sociale', 5: 'Justice', 6: 'Etrangers'}\n"
     ]
    }
   ],
   "source": [
    "# Créer le mapping inverse des catégories numériques vers les étiquettes d'origine\n",
    "ID_TO_LABEL = {v: k for k, v in category_mapping.items()}\n",
    "\n",
    "# Vérifier le mapping ID_TO_LABEL\n",
    "print(\"ID_TO_LABEL :\", ID_TO_LABEL)"
   ]
  },
  {
   "cell_type": "code",
   "execution_count": 29,
   "metadata": {},
   "outputs": [],
   "source": [
    "def get_preds(model, tokenizer, sentence):\n",
    "    # Tokeniser la phrase en utilisant le tokenizer\n",
    "    tokenized_sentence = tokenizer(sentence, return_tensors=\"pt\")\n",
    "    input_ids, attention_mask = tokenized_sentence.input_ids, tokenized_sentence.attention_mask\n",
    "\n",
    "    # Obtenir les prédictions du modèle pour la phrase\n",
    "    out = model(\n",
    "        input_ids=tokenized_sentence.input_ids,\n",
    "        attention_mask=tokenized_sentence.attention_mask\n",
    "    )\n",
    "\n",
    "    # Extraire les logits du modèle\n",
    "    logits = out.logits\n",
    "\n",
    "    # Appliquer la fonction softmax pour obtenir les probabilités\n",
    "    probas = torch.softmax(logits, -1).squeeze()\n",
    "\n",
    "    # Trouver la classe prédite en sélectionnant l'indice avec la probabilité maximale\n",
    "    pred = torch.argmax(probas)\n",
    "\n",
    "    # Utiliser le mapping ID_TO_LABEL pour obtenir l'étiquette correspondante à la classe prédite\n",
    "    pred_label = ID_TO_LABEL[pred.item()]\n",
    "\n",
    "    # Retourner l'étiquette prédite et la probabilité associée\n",
    "    return pred_label, probas[pred].item()\n"
   ]
  },
  {
   "cell_type": "code",
   "execution_count": 30,
   "metadata": {},
   "outputs": [
    {
     "name": "stdout",
     "output_type": "stream",
     "text": [
      "Phrase: \"Quels sont mes droits au travail?\" - Catégorie prédite: Protection sociale, Confiance: 0.7121137380599976 \n",
      "\n",
      "Phrase: \"Comment gérer mes finances efficacement?\" - Catégorie prédite: Argent, Confiance: 0.9768103361129761 \n",
      "\n",
      "Phrase: \"Comment renforcer les liens familiaux?\" - Catégorie prédite: Famille, Confiance: 0.9882287979125977 \n",
      "\n",
      "Phrase: \"Quelles sont les options de logement disponibles?\" - Catégorie prédite: Logement, Confiance: 0.9830980896949768 \n",
      "\n",
      "Phrase: \"Comment obtenir une protection sociale adéquate?\" - Catégorie prédite: Protection sociale, Confiance: 0.7972410917282104 \n",
      "\n",
      "Phrase: \"Quels sont les recours en cas d'injustice?\" - Catégorie prédite: Justice, Confiance: 0.9461599588394165 \n",
      "\n",
      "Phrase: \"Quelles sont les démarches pour s'installer à l'étranger?\" - Catégorie prédite: Etrangers, Confiance: 0.9447386860847473 \n",
      "\n"
     ]
    }
   ],
   "source": [
    "phrases = [\n",
    "    \"Quels sont mes droits au travail?\",\n",
    "    \"Comment gérer mes finances efficacement?\",\n",
    "    \"Comment renforcer les liens familiaux?\",\n",
    "    \"Quelles sont les options de logement disponibles?\",\n",
    "    \"Comment obtenir une protection sociale adéquate?\",\n",
    "    \"Quels sont les recours en cas d'injustice?\",\n",
    "    \"Quelles sont les démarches pour s'installer à l'étranger?\"\n",
    "]\n",
    "\n",
    "for phrase in phrases:\n",
    "    category_predicted, proba = get_preds(lightning_model.model, tokenizer, phrase)\n",
    "    print(f'Phrase: \"{phrase}\" - Catégorie prédite: {category_predicted}, Confiance: {proba} \\n')\n"
   ]
  },
  {
   "cell_type": "markdown",
   "metadata": {},
   "source": [
    "### Matrice de confusion\n"
   ]
  },
  {
   "cell_type": "code",
   "execution_count": 31,
   "metadata": {},
   "outputs": [
    {
     "name": "stderr",
     "output_type": "stream",
     "text": [
      "LOCAL_RANK: 0 - CUDA_VISIBLE_DEVICES: [0]\n",
      "c:\\Users\\mthia\\anaconda3\\envs\\NLP_3A\\Lib\\site-packages\\pytorch_lightning\\trainer\\connectors\\data_connector.py:441: The 'predict_dataloader' does not have many workers which may be a bottleneck. Consider increasing the value of the `num_workers` argument` to `num_workers=15` in the `DataLoader` to improve performance.\n"
     ]
    },
    {
     "data": {
      "application/vnd.jupyter.widget-view+json": {
       "model_id": "91db2a15855a47368dde78eec40692e4",
       "version_major": 2,
       "version_minor": 0
      },
      "text/plain": [
       "Predicting: |          | 0/? [00:00<?, ?it/s]"
      ]
     },
     "metadata": {},
     "output_type": "display_data"
    }
   ],
   "source": [
    "camembert_preds = camembert_trainer.predict(lightning_model, dataloaders=test_DataLoader)\n",
    "camembert_preds = torch.cat(camembert_preds, -1)\n"
   ]
  },
  {
   "cell_type": "code",
   "execution_count": 32,
   "metadata": {},
   "outputs": [],
   "source": [
    "category = test_dataset.data[\"category\"]\n",
    "category = {v: k for k, v in category_mapping.items()}\n",
    "\n",
    "labels = test_dataset.data[\"labels\"]\n"
   ]
  },
  {
   "cell_type": "code",
   "execution_count": 33,
   "metadata": {},
   "outputs": [],
   "source": [
    "def plot_confusion_matrix(labels, preds, label_names):\n",
    "    confusion_norm = confusion_matrix(labels, preds.tolist(), labels=list(range(len(label_names))), normalize=\"true\")\n",
    "    confusion = confusion_matrix(labels, preds.tolist(), labels=list(range(len(label_names))))\n",
    "    \n",
    "    # plt.figure(figsize=(16, 14))\n",
    "    sns.heatmap(\n",
    "        confusion_norm,\n",
    "        annot=confusion,\n",
    "        cbar=False,\n",
    "        fmt=\"d\",\n",
    "        xticklabels=label_names,\n",
    "        yticklabels=label_names,\n",
    "        cmap=\"viridis\"\n",
    "    )\n",
    "    plt.title('Matrice de confusion: CamemBERT-base')\n",
    "    plt.colorbar\n",
    "    plt.show()"
   ]
  },
  {
   "cell_type": "code",
   "execution_count": 34,
   "metadata": {},
   "outputs": [
    {
     "data": {
      "text/plain": [
       "torch.Size([222])"
      ]
     },
     "execution_count": 34,
     "metadata": {},
     "output_type": "execute_result"
    }
   ],
   "source": [
    "labels = test_dataset.data[\"labels\"]\n",
    "labels = torch.tensor(labels)\n",
    "labels.shape"
   ]
  },
  {
   "cell_type": "code",
   "execution_count": 35,
   "metadata": {},
   "outputs": [
    {
     "data": {
      "image/png": "[encoded data removed]",
      "text/plain": [
       "<Figure size 640x480 with 1 Axes>"
      ]
     },
     "metadata": {},
     "output_type": "display_data"
    }
   ],
   "source": [
    "# Afficher la matrice de confusion\n",
    "# Remplacez ces noms par vos vrais noms de catégories\n",
    "category_names = ['Tra', 'Arg', 'Fam', 'Log', 'P.S', 'Jus', 'Etr']\n",
    "\n",
    "plot_confusion_matrix(labels, camembert_preds, category_names)\n"
   ]
  }
 ],
 "metadata": {
  "kernelspec": {
   "display_name": "NLP_3A_Project",
   "language": "python",
   "name": "python3"
  },
  "language_info": {
   "codemirror_mode": {
    "name": "ipython",
    "version": 3
   },
   "file_extension": ".py",
   "mimetype": "text/x-python",
   "name": "python",
   "nbconvert_exporter": "python",
   "pygments_lexer": "ipython3",
   "version": "3.11.7"
  }
 },
 "nbformat": 4,
 "nbformat_minor": 2
}
