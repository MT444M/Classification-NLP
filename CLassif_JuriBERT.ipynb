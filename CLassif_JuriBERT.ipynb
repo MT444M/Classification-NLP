{
 "cells": [
  {
   "cell_type": "code",
   "execution_count": 1,
   "metadata": {},
   "outputs": [],
   "source": [
    "from transformers import RobertaTokenizer, BertModel\n",
    "\n",
    "import pytorch_lightning as pl\n",
    "from torch.utils.data import Dataset, DataLoader\n",
    "import torch\n",
    "import functools\n",
    "\n",
    "import torch\n",
    "import torchmetrics\n",
    "\n",
    "import pytorch_lightning as pl\n",
    "import torch.nn as nn\n",
    "\n",
    "\n",
    "import pandas as pd\n",
    "import matplotlib.pyplot as plt\n",
    "import functools\n",
    "#from IPython.display import display\n",
    "from tqdm.notebook import tqdm\n",
    "from termcolor import cprint\n",
    "\n"
   ]
  },
  {
   "cell_type": "markdown",
   "metadata": {},
   "source": [
    "### Charger le model"
   ]
  },
  {
   "cell_type": "code",
   "execution_count": 4,
   "metadata": {},
   "outputs": [
    {
     "name": "stderr",
     "output_type": "stream",
     "text": [
      "Some weights of BertModel were not initialized from the model checkpoint at juribert_small and are newly initialized: ['bert.pooler.dense.bias', 'bert.pooler.dense.weight']\n",
      "You should probably TRAIN this model on a down-stream task to be able to use it for predictions and inference.\n"
     ]
    }
   ],
   "source": [
    "juribert_tokenizer = RobertaTokenizer.from_pretrained('LegalTokenizer')\n",
    "juribert_model = BertModel.from_pretrained('juribert_small',local_files_only=True)\n"
   ]
  },
  {
   "cell_type": "markdown",
   "metadata": {},
   "source": [
    "#### Afficher les détails du modèle\n"
   ]
  },
  {
   "cell_type": "code",
   "execution_count": 3,
   "metadata": {},
   "outputs": [
    {
     "data": {
      "text/plain": [
       "BertModel(\n",
       "  (embeddings): BertEmbeddings(\n",
       "    (word_embeddings): Embedding(32000, 512, padding_idx=0)\n",
       "    (position_embeddings): Embedding(512, 512)\n",
       "    (token_type_embeddings): Embedding(1, 512)\n",
       "    (LayerNorm): LayerNorm((512,), eps=1e-12, elementwise_affine=True)\n",
       "    (dropout): Dropout(p=0.1, inplace=False)\n",
       "  )\n",
       "  (encoder): BertEncoder(\n",
       "    (layer): ModuleList(\n",
       "      (0-5): 6 x BertLayer(\n",
       "        (attention): BertAttention(\n",
       "          (self): BertSelfAttention(\n",
       "            (query): Linear(in_features=512, out_features=512, bias=True)\n",
       "            (key): Linear(in_features=512, out_features=512, bias=True)\n",
       "            (value): Linear(in_features=512, out_features=512, bias=True)\n",
       "            (dropout): Dropout(p=0.1, inplace=False)\n",
       "          )\n",
       "          (output): BertSelfOutput(\n",
       "            (dense): Linear(in_features=512, out_features=512, bias=True)\n",
       "            (LayerNorm): LayerNorm((512,), eps=1e-12, elementwise_affine=True)\n",
       "            (dropout): Dropout(p=0.1, inplace=False)\n",
       "          )\n",
       "        )\n",
       "        (intermediate): BertIntermediate(\n",
       "          (dense): Linear(in_features=512, out_features=3072, bias=True)\n",
       "          (intermediate_act_fn): GELUActivation()\n",
       "        )\n",
       "        (output): BertOutput(\n",
       "          (dense): Linear(in_features=3072, out_features=512, bias=True)\n",
       "          (LayerNorm): LayerNorm((512,), eps=1e-12, elementwise_affine=True)\n",
       "          (dropout): Dropout(p=0.1, inplace=False)\n",
       "        )\n",
       "      )\n",
       "    )\n",
       "  )\n",
       "  (pooler): BertPooler(\n",
       "    (dense): Linear(in_features=512, out_features=512, bias=True)\n",
       "    (activation): Tanh()\n",
       "  )\n",
       ")"
      ]
     },
     "metadata": {},
     "output_type": "display_data"
    }
   ],
   "source": [
    "# Afficher les détails du modèle\n",
    "display(juribert_model)"
   ]
  },
  {
   "cell_type": "code",
   "execution_count": 4,
   "metadata": {},
   "outputs": [
    {
     "name": "stdout",
     "output_type": "stream",
     "text": [
      "torch.Size([1, 14, 512])\n",
      "last_hidden_state: torch.Size([1, 14, 512])\n",
      "pooler_output: torch.Size([1, 512])\n"
     ]
    }
   ],
   "source": [
    "# Définir un exemple de texte\n",
    "text = \"Suis-je payé pendant la procédure du trajet de réintégration\"\n",
    "\n",
    "# Tokeniser le texte\n",
    "tokens = juribert_tokenizer(text, return_tensors='pt')\n",
    "\n",
    "# Obtenir les embeddings des tokens\n",
    "with torch.no_grad():\n",
    "    outputs = juribert_model(**tokens)\n",
    "\n",
    "# Afficher les détails des embeddings\n",
    "print(outputs.last_hidden_state.shape)  # Taille des embeddings des tokens\n",
    "\n",
    "# Afficher les détails des sorties du modèle\n",
    "for key, value in outputs.items():\n",
    "    print(f\"{key}: {value.shape}\")\n"
   ]
  },
  {
   "cell_type": "markdown",
   "metadata": {},
   "source": [
    "### Créer le dataset"
   ]
  },
  {
   "cell_type": "code",
   "execution_count": 5,
   "metadata": {},
   "outputs": [],
   "source": [
    "# obliger de changer comme ça les données pour pouvoir utiliser DataLoader de torch avec csv file\n",
    "class CustomDataset(Dataset):\n",
    "    def __init__(self, csv_file, transform=None):\n",
    "        self.data = pd.read_csv(csv_file)\n",
    "        self.transform = transform\n",
    "\n",
    "    def __len__(self):\n",
    "        return len(self.data)\n",
    "\n",
    "    def __getitem__(self, idx):\n",
    "        sample = self.data.iloc[idx]\n",
    "        if self.transform:\n",
    "            sample = self.transform(sample)\n",
    "        return sample\n",
    "\n",
    "train_dataset = CustomDataset('questions_train.csv')\n",
    "test_dataset = CustomDataset('questions_test.csv')"
   ]
  },
  {
   "cell_type": "code",
   "execution_count": 6,
   "metadata": {},
   "outputs": [
    {
     "data": {
      "text/html": [
       "<div>\n",
       "<style scoped>\n",
       "    .dataframe tbody tr th:only-of-type {\n",
       "        vertical-align: middle;\n",
       "    }\n",
       "\n",
       "    .dataframe tbody tr th {\n",
       "        vertical-align: top;\n",
       "    }\n",
       "\n",
       "    .dataframe thead th {\n",
       "        text-align: right;\n",
       "    }\n",
       "</style>\n",
       "<table border=\"1\" class=\"dataframe\">\n",
       "  <thead>\n",
       "    <tr style=\"text-align: right;\">\n",
       "      <th></th>\n",
       "      <th>id</th>\n",
       "      <th>category</th>\n",
       "      <th>subcategory</th>\n",
       "      <th>question</th>\n",
       "      <th>extra_description</th>\n",
       "      <th>article_ids</th>\n",
       "    </tr>\n",
       "  </thead>\n",
       "  <tbody>\n",
       "    <tr>\n",
       "      <th>0</th>\n",
       "      <td>1102</td>\n",
       "      <td>Travail</td>\n",
       "      <td>Travail et parentalité</td>\n",
       "      <td>Je suis travailleur salarié(e). Puis-je refuse...</td>\n",
       "      <td>Pendant la grossesse</td>\n",
       "      <td>22225,22226,22227,22228,22229,22230,22231,2223...</td>\n",
       "    </tr>\n",
       "    <tr>\n",
       "      <th>1</th>\n",
       "      <td>91</td>\n",
       "      <td>Argent</td>\n",
       "      <td>Dettes</td>\n",
       "      <td>Peut-on saisir tous mes revenus ?</td>\n",
       "      <td>Procédures de récupération des dettes, Récupér...</td>\n",
       "      <td>5853,5854,5855</td>\n",
       "    </tr>\n",
       "    <tr>\n",
       "      <th>2</th>\n",
       "      <td>474</td>\n",
       "      <td>Famille</td>\n",
       "      <td>Situation de couples</td>\n",
       "      <td>Je suis marié(e). Nous sommes mariés. Dois-je ...</td>\n",
       "      <td>Mariage</td>\n",
       "      <td>1096,1097,1098,1108,1109,1110</td>\n",
       "    </tr>\n",
       "    <tr>\n",
       "      <th>3</th>\n",
       "      <td>836</td>\n",
       "      <td>Logement</td>\n",
       "      <td>Location en Wallonie</td>\n",
       "      <td>Je mets un kot en location (bail de droit comm...</td>\n",
       "      <td>Mettre un logement en location (Wallonie), Doi...</td>\n",
       "      <td>12012,12030,12031,12032,12033,12034,12035</td>\n",
       "    </tr>\n",
       "    <tr>\n",
       "      <th>4</th>\n",
       "      <td>1079</td>\n",
       "      <td>Travail</td>\n",
       "      <td>Maladie - incapacité de travail</td>\n",
       "      <td>Suis-je payé pendant la procédure du trajet de...</td>\n",
       "      <td>Rupture du contrat de travail pour force majeu...</td>\n",
       "      <td>21114,21115,21116,21117,21118,21119,21120,2112...</td>\n",
       "    </tr>\n",
       "  </tbody>\n",
       "</table>\n",
       "</div>"
      ],
      "text/plain": [
       "     id  category                      subcategory  \\\n",
       "0  1102   Travail           Travail et parentalité   \n",
       "1    91    Argent                           Dettes   \n",
       "2   474   Famille             Situation de couples   \n",
       "3   836  Logement             Location en Wallonie   \n",
       "4  1079   Travail  Maladie - incapacité de travail   \n",
       "\n",
       "                                            question  \\\n",
       "0  Je suis travailleur salarié(e). Puis-je refuse...   \n",
       "1                  Peut-on saisir tous mes revenus ?   \n",
       "2  Je suis marié(e). Nous sommes mariés. Dois-je ...   \n",
       "3  Je mets un kot en location (bail de droit comm...   \n",
       "4  Suis-je payé pendant la procédure du trajet de...   \n",
       "\n",
       "                                   extra_description  \\\n",
       "0                               Pendant la grossesse   \n",
       "1  Procédures de récupération des dettes, Récupér...   \n",
       "2                                            Mariage   \n",
       "3  Mettre un logement en location (Wallonie), Doi...   \n",
       "4  Rupture du contrat de travail pour force majeu...   \n",
       "\n",
       "                                         article_ids  \n",
       "0  22225,22226,22227,22228,22229,22230,22231,2223...  \n",
       "1                                     5853,5854,5855  \n",
       "2                      1096,1097,1098,1108,1109,1110  \n",
       "3          12012,12030,12031,12032,12033,12034,12035  \n",
       "4  21114,21115,21116,21117,21118,21119,21120,2112...  "
      ]
     },
     "metadata": {},
     "output_type": "display_data"
    }
   ],
   "source": [
    "# Display the head of the dataset\n",
    "display(train_dataset.data.head())"
   ]
  },
  {
   "cell_type": "code",
   "execution_count": 11,
   "metadata": {},
   "outputs": [
    {
     "name": "stdout",
     "output_type": "stream",
     "text": [
      "\u001b[107m\u001b[30m1. Je suis travailleur salarié(e). Puis-je refuser de faire des heures supplémentaires ou de travailler de nuit ?\n",
      "\u001b[0m\n",
      "\u001b[107m\u001b[30m2. Peut-on saisir tous mes revenus ?\n",
      "\u001b[0m\n",
      "\u001b[107m\u001b[30m3. Je suis marié(e). Nous sommes mariés. Dois-je reconnaître mon enfant ?\n",
      "\u001b[0m\n",
      "\u001b[107m\u001b[30m4. Je mets un kot en location (bail de droit commun). Pour quels logements le permis de location est-il nécessaire en Wallonie ?\n",
      "\u001b[0m\n",
      "\u001b[107m\u001b[30m5. Suis-je payé pendant la procédure du trajet de réintégration ?\n",
      "\u001b[0m\n"
     ]
    }
   ],
   "source": [
    "#Quelque exemple de phrase du DF\n",
    "for idx in range(5):\n",
    "    question_content = train_dataset.data.iloc[idx][\"question\"]\n",
    "    cprint(f\"{idx + 1}. {question_content}\\n\", \"black\", on_color=\"on_white\")\n",
    "\n"
   ]
  },
  {
   "cell_type": "code",
   "execution_count": 8,
   "metadata": {},
   "outputs": [
    {
     "name": "stdout",
     "output_type": "stream",
     "text": [
      "<class 'pandas.core.frame.DataFrame'>\n",
      "RangeIndex: 886 entries, 0 to 885\n",
      "Data columns (total 6 columns):\n",
      " #   Column             Non-Null Count  Dtype \n",
      "---  ------             --------------  ----- \n",
      " 0   id                 886 non-null    int64 \n",
      " 1   category           886 non-null    object\n",
      " 2   subcategory        886 non-null    object\n",
      " 3   question           886 non-null    object\n",
      " 4   extra_description  791 non-null    object\n",
      " 5   article_ids        886 non-null    object\n",
      "dtypes: int64(1), object(5)\n",
      "memory usage: 41.7+ KB\n"
     ]
    }
   ],
   "source": [
    "train_dataset.data.info()"
   ]
  },
  {
   "cell_type": "code",
   "execution_count": 140,
   "metadata": {},
   "outputs": [
    {
     "name": "stdout",
     "output_type": "stream",
     "text": [
      "<class 'pandas.core.frame.DataFrame'>\n",
      "RangeIndex: 222 entries, 0 to 221\n",
      "Data columns (total 7 columns):\n",
      " #   Column             Non-Null Count  Dtype \n",
      "---  ------             --------------  ----- \n",
      " 0   id                 222 non-null    int64 \n",
      " 1   category           222 non-null    object\n",
      " 2   subcategory        222 non-null    object\n",
      " 3   question           222 non-null    object\n",
      " 4   extra_description  199 non-null    object\n",
      " 5   article_ids        222 non-null    object\n",
      " 6   labels             222 non-null    int64 \n",
      "dtypes: int64(2), object(5)\n",
      "memory usage: 12.3+ KB\n"
     ]
    }
   ],
   "source": [
    "test_dataset.data.info()"
   ]
  },
  {
   "cell_type": "code",
   "execution_count": 8,
   "metadata": {},
   "outputs": [
    {
     "data": {
      "image/png": "[encoded data removed]",
      "text/plain": [
       "<Figure size 1000x600 with 1 Axes>"
      ]
     },
     "metadata": {},
     "output_type": "display_data"
    }
   ],
   "source": [
    "plt.figure(figsize=(10, 6))\n",
    "train_dataset.data['category'].value_counts().plot(kind='bar')\n",
    "plt.title('Histogramme des Catégories dans le Jeu de Données d\\'Entraînement')\n",
    "plt.xlabel('Catégorie')\n",
    "plt.ylabel('Nombre d\\'occurrences')\n",
    "plt.show()"
   ]
  },
  {
   "cell_type": "code",
   "execution_count": 13,
   "metadata": {},
   "outputs": [
    {
     "name": "stdout",
     "output_type": "stream",
     "text": [
      "\u001b[1m\u001b[107m\u001b[32mFalse\u001b[0m\n"
     ]
    }
   ],
   "source": [
    "# Notamment, aucune phrase ne comporte plus de 512 caractères, et donc aucune phrase ne comportera plus de 512 tokens:\n",
    "train_dataset.data['question_length'] = train_dataset.data['question'].apply(lambda x: len(x))  # Utilisez split() pour compter les mots\n",
    "cprint(train_dataset.data[\"question_length\"].any()>512, \"green\", attrs=[\"bold\"], on_color=\"on_white\")\n",
    "\n"
   ]
  },
  {
   "cell_type": "markdown",
   "metadata": {},
   "source": [
    "####  Définir la correspondance des catégories avec des valeurs numériques\n"
   ]
  },
  {
   "cell_type": "code",
   "execution_count": 20,
   "metadata": {},
   "outputs": [
    {
     "name": "stdout",
     "output_type": "stream",
     "text": [
      "\u001b[1m\u001b[107m\u001b[32mNombre de classes : [0 1 2 3 4 5 6]\u001b[0m\n",
      "\u001b[1m\u001b[107m\u001b[31mNombre de classes : 7\u001b[0m\n"
     ]
    }
   ],
   "source": [
    "# Définir la correspondance des catégories avec des valeurs numériques\n",
    "category_mapping = {'Travail': 0, 'Argent': 1, 'Famille': 2, 'Logement': 3, 'Protection sociale': 4, 'Justice': 5, 'Etrangers': 6}\n",
    "\n",
    "# Appliquer la correspondance au DataFrame\n",
    "train_dataset.data['labels'] = train_dataset.data['category'].map(category_mapping)\n",
    "test_dataset.data['labels'] = test_dataset.data['category'].map(category_mapping)\n",
    "\n",
    "# Vérifier les valeurs uniques dans la nouvelle colonne\n",
    "unique_categories_numeric = train_dataset.data['labels'].unique()\n",
    "cprint(f'Nombre de classes : {unique_categories_numeric}', \"green\", attrs=[\"bold\"], on_color=\"on_white\")\n",
    "\n",
    "num_category= train_dataset.data[\"labels\"].nunique()\n",
    "cprint(f'Nombre de classes : {num_category}', \"red\", attrs=[\"bold\"], on_color=\"on_white\")\n",
    "\n"
   ]
  },
  {
   "cell_type": "markdown",
   "metadata": {},
   "source": [
    "### Créer le DataLoader et création des IDs des questions\n"
   ]
  },
  {
   "cell_type": "code",
   "execution_count": 23,
   "metadata": {},
   "outputs": [],
   "source": [
    "# Utilisons maintenant Juribert afin d’obtenir une représentation vectorielle de chacun des messages!\n",
    "def tokernize_batch(samples, tokenizer):\n",
    "    text = [sample[\"question\"] for sample in samples]\n",
    "    category = [sample['category'] for sample in samples]\n",
    "    labels = torch.tensor([sample[\"labels\"] for sample in samples])\n",
    "\n",
    "\n",
    "    tokens = juribert_tokenizer(text, padding='longest', return_tensors='pt')\n",
    "    return {\"input_ids\": tokens.input_ids, \"attention_mask\": tokens.attention_mask,\"labels\": labels, \"category\": category, \"sentences\": text}\n"
   ]
  },
  {
   "cell_type": "code",
   "execution_count": 22,
   "metadata": {},
   "outputs": [
    {
     "data": {
      "text/plain": [
       "{'input_ids': tensor([[   0,   53, 5639,  416,  293, 4200,  300,  487,  321, 5570, 5685,    2,\n",
       "             1,    1,    1,    1,    1,    1,    1,    1,    1,    1,    1,    1,\n",
       "             1,    1],\n",
       "         [   0,   48,  273, 3414,  391,  666,  374, 8250, 1885,   18,  225,   52,\n",
       "          1065,   17,  989, 5708,  502, 4893, 1055,  436, 4659,  302, 5808,  969,\n",
       "          5685,    2]]),\n",
       " 'attention_mask': tensor([[1, 1, 1, 1, 1, 1, 1, 1, 1, 1, 1, 1, 0, 0, 0, 0, 0, 0, 0, 0, 0, 0, 0, 0,\n",
       "          0, 0],\n",
       "         [1, 1, 1, 1, 1, 1, 1, 1, 1, 1, 1, 1, 1, 1, 1, 1, 1, 1, 1, 1, 1, 1, 1, 1,\n",
       "          1, 1]]),\n",
       " 'labels': tensor([1, 2]),\n",
       " 'category': ['Argent', 'Famille'],\n",
       " 'sentences': ['Quel est le rôle du juge des saisies ?',\n",
       "  'Les parents ne sont pas mariés ensemble. Puis-je reconnaître mon enfant avant sa naissance et comment faire ?']}"
      ]
     },
     "execution_count": 22,
     "metadata": {},
     "output_type": "execute_result"
    }
   ],
   "source": [
    "#definir le batch size\n",
    "batch_size = 2\n",
    "train_DataLoader = DataLoader(train_dataset, \n",
    "                              collate_fn=functools.partial(tokernize_batch, tokenizer = juribert_tokenizer), \n",
    "                              batch_size=batch_size,\n",
    "                              shuffle=True)\n",
    "batch = next(iter(train_DataLoader))  \n",
    "batch"
   ]
  },
  {
   "cell_type": "markdown",
   "metadata": {},
   "source": [
    "### Test decodage "
   ]
  },
  {
   "cell_type": "code",
   "execution_count": 26,
   "metadata": {},
   "outputs": [
    {
     "name": "stdout",
     "output_type": "stream",
     "text": [
      "\u001b[1m\u001b[107m\u001b[31m<s>Quel est le rôle du juge des saisies?</s><pad><pad><pad><pad><pad><pad><pad><pad><pad><pad><pad><pad><pad><pad>\n",
      "<s>Les parents ne sont pas mariés ensemble. Puis-je reconnaître mon enfant avant sa naissance et comment faire?</s>\u001b[0m\n"
     ]
    }
   ],
   "source": [
    "cprint(\"\\n\".join(juribert_tokenizer.batch_decode(batch[\"input_ids\"])), \"red\", attrs=[\"bold\"], on_color=\"on_white\")\n",
    "\n"
   ]
  },
  {
   "cell_type": "code",
   "execution_count": 31,
   "metadata": {},
   "outputs": [],
   "source": [
    "test_DataLoader = DataLoader(test_dataset, \n",
    "                              collate_fn=functools.partial(tokernize_batch, tokenizer = juribert_tokenizer), \n",
    "                              batch_size= batch_size,\n",
    "                              shuffle=False)"
   ]
  },
  {
   "cell_type": "markdown",
   "metadata": {},
   "source": [
    "### Créer les DataLoader avec PytorchLightning: une autre méthode\n",
    "\n"
   ]
  },
  {
   "cell_type": "code",
   "execution_count": 32,
   "metadata": {},
   "outputs": [],
   "source": [
    "class CustomDataModule(pl.LightningDataModule):\n",
    "    def __init__(self, train_csv, test_csv, tokenizer, batch_size=32, num_workers=4):\n",
    "        super().__init__()\n",
    "        self.train_csv = train_csv\n",
    "        self.test_csv = test_csv\n",
    "        self.tokenizer = tokenizer\n",
    "        self.batch_size = batch_size\n",
    "        self.num_workers = num_workers\n",
    "\n",
    "    # ...\n",
    "\n",
    "    def train_dataloader(self):\n",
    "        return DataLoader(self.train_dataset, \n",
    "                          collate_fn=functools.partial(tokernize_batch, tokenizer = self.tokenizer), \n",
    "                          batch_size=self.batch_size,\n",
    "                          shuffle=True\n",
    "                          )\n",
    "\n",
    "    def val_dataloader(self):\n",
    "        return DataLoader(self.test_dataset, \n",
    "                          collate_fn=functools.partial(tokernize_batch, tokenizer = self.tokenizer), \n",
    "                          batch_size=self.batch_size,\n",
    "                          shuffle=False\n",
    "                          )\n"
   ]
  },
  {
   "cell_type": "markdown",
   "metadata": {},
   "source": [
    "### Création du modèle avec PytorchLightning\n",
    "\n"
   ]
  },
  {
   "cell_type": "code",
   "execution_count": 28,
   "metadata": {},
   "outputs": [],
   "source": [
    "# Définition de la classe JuribertClassifier qui hérite de pl.LightningModule\n",
    "# Cette classe est utilisée pour créer un modèle de classification basé sur le modèle pré-entraîné Juribert\n",
    "\n",
    "\n",
    "class JuribertClassifier(pl.LightningModule):\n",
    "    \"\"\"Cette classe est utilisée pour créer un modèle de classification basé sur le modèle pré-entraîné Juribert\n",
    "    \"\"\"\n",
    "    def __init__(self, juribert_model, juribert_tokenizer, nclasses=7, dropout_rate=0.1, learning_rate=3e-5):\n",
    "        super(JuribertClassifier, self).__init__()\n",
    "        self.juribert_tokenizer = juribert_tokenizer\n",
    "        self.juribert_model = juribert_model\n",
    "        self.seq = nn.Sequential(\n",
    "            nn.Dropout(p=dropout_rate),\n",
    "            nn.Linear(self.juribert_model.config.hidden_size, self.juribert_model.config.hidden_size),\n",
    "            nn.Tanh(),\n",
    "            nn.Dropout(p=dropout_rate),\n",
    "            nn.Linear(self.juribert_model.config.hidden_size, nclasses)\n",
    "        )\n",
    "        \n",
    "        self.softmax = nn.LogSoftmax(dim=-1)\n",
    "        self.loss_fn = nn.NLLLoss()\n",
    "\n",
    "        self.learning_rate = learning_rate\n",
    "    \n",
    "    def forward(self, input_ids, attention_mask):\n",
    "        x = self.juribert_model(input_ids, attention_mask=attention_mask)[0]\n",
    "        x = self.seq(x[:, 0, :])\n",
    "        return x\n",
    "\n",
    "    def _step(self, batch, batch_idx, step_type):\n",
    "        input_ids = batch[\"input_ids\"]\n",
    "        attention_mask = batch[\"attention_mask\"]\n",
    "        labels = batch[\"labels\"]\n",
    "\n",
    "        outputs = self(input_ids, attention_mask)\n",
    "        outputs = self.softmax(outputs)\n",
    "        loss = self.loss_fn(outputs, labels.view(-1))\n",
    "        \n",
    "        # Inside the _step method\n",
    "        predictions = torch.argmax(outputs, dim=-1)\n",
    "        accuracy = (predictions == labels.view(-1)).float().mean()\n",
    "        self.log(f'{step_type}_loss', loss, on_step=True, on_epoch=True)\n",
    "        self.log(f'{step_type}_accuracy', accuracy, on_step=True, on_epoch=True)\n",
    "\n",
    "        return loss\n",
    "\n",
    "    def training_step(self, batch, batch_idx):\n",
    "        return self._step(batch, batch_idx, 'train')\n",
    "\n",
    "    def validation_step(self, batch, batch_idx):\n",
    "        return self._step(batch, batch_idx, 'val')\n",
    "    \n",
    "    def predict_step(self, batch, batch_idx):\n",
    "        \"\"\"La fonction predict step facilite la prédiction de données. Elle est \n",
    "        similaire à `validation_step`, sans le calcul des métriques\n",
    "        \"\"\"\n",
    "        input_ids = batch[\"input_ids\"]\n",
    "        attention_mask = batch[\"attention_mask\"]\n",
    "        \n",
    "        outputs = self.forward(input_ids,attention_mask)\n",
    "        outputs = self.softmax(outputs)\n",
    "\n",
    "\n",
    "        return torch.max(outputs, -1).indices\n",
    "\n",
    "    def configure_optimizers(self):\n",
    "        optimizer = torch.optim.AdamW(self.parameters(), lr=self.learning_rate)\n",
    "        return optimizer\n",
    "\n",
    "\n",
    "\n",
    "#initialisation\n",
    "model = JuribertClassifier(juribert_model=juribert_model, \n",
    "                           juribert_tokenizer=juribert_tokenizer, \n",
    "                           nclasses=7, dropout_rate=0.1, learning_rate=3e-5)\n",
    "\n"
   ]
  },
  {
   "cell_type": "code",
   "execution_count": 29,
   "metadata": {},
   "outputs": [
    {
     "name": "stderr",
     "output_type": "stream",
     "text": [
      "GPU available: True (cuda), used: True\n",
      "TPU available: False, using: 0 TPU cores\n",
      "IPU available: False, using: 0 IPUs\n",
      "HPU available: False, using: 0 HPUs\n"
     ]
    }
   ],
   "source": [
    "\n",
    "model_checkpoint = pl.callbacks.ModelCheckpoint(monitor=\"val_loss\", mode=\"max\") # Sauvegarde du meilleur modèle\n",
    "\n",
    "# Initialisation du Trainer\n",
    "trainer = pl.Trainer(\n",
    "    \n",
    "    max_epochs=50,  # Choisissez le nombre d'époques souhaité\n",
    "    accelerator=\"auto\",  # Utilisez 0 pour CPU, 1 pour GPU\n",
    "    devices=\"auto\",\n",
    "    logger=pl.loggers.TensorBoardLogger('logs/', name='V2'),  # Logs metrics pour TensorBoard\n",
    "    callbacks=[pl.callbacks.EarlyStopping(monitor=\"val_loss\", patience=4, mode=\"max\"),\n",
    "               model_checkpoint]\n",
    ")\n"
   ]
  },
  {
   "cell_type": "code",
   "execution_count": 33,
   "metadata": {},
   "outputs": [
    {
     "name": "stderr",
     "output_type": "stream",
     "text": [
      "LOCAL_RANK: 0 - CUDA_VISIBLE_DEVICES: [0]\n",
      "\n",
      "  | Name           | Type       | Params\n",
      "----------------------------------------------\n",
      "0 | juribert_model | BertModel  | 42.1 M\n",
      "1 | seq            | Sequential | 266 K \n",
      "2 | softmax        | LogSoftmax | 0     \n",
      "3 | loss_fn        | NLLLoss    | 0     \n",
      "----------------------------------------------\n",
      "42.4 M    Trainable params\n",
      "0         Non-trainable params\n",
      "42.4 M    Total params\n",
      "169.554   Total estimated model params size (MB)\n"
     ]
    },
    {
     "data": {
      "application/vnd.jupyter.widget-view+json": {
       "model_id": "3114879183a54e11a7af1eede7d9a4e9",
       "version_major": 2,
       "version_minor": 0
      },
      "text/plain": [
       "Sanity Checking: |          | 0/? [00:00<?, ?it/s]"
      ]
     },
     "metadata": {},
     "output_type": "display_data"
    },
    {
     "name": "stderr",
     "output_type": "stream",
     "text": [
      "c:\\Users\\mthia\\anaconda3\\envs\\NLP_3A\\Lib\\site-packages\\pytorch_lightning\\trainer\\connectors\\data_connector.py:441: The 'val_dataloader' does not have many workers which may be a bottleneck. Consider increasing the value of the `num_workers` argument` to `num_workers=15` in the `DataLoader` to improve performance.\n",
      "c:\\Users\\mthia\\anaconda3\\envs\\NLP_3A\\Lib\\site-packages\\pytorch_lightning\\utilities\\data.py:77: Trying to infer the `batch_size` from an ambiguous collection. The batch size we found is 2. To avoid any miscalculations, use `self.log(..., batch_size=batch_size)`.\n",
      "c:\\Users\\mthia\\anaconda3\\envs\\NLP_3A\\Lib\\site-packages\\pytorch_lightning\\trainer\\connectors\\data_connector.py:441: The 'train_dataloader' does not have many workers which may be a bottleneck. Consider increasing the value of the `num_workers` argument` to `num_workers=15` in the `DataLoader` to improve performance.\n"
     ]
    },
    {
     "data": {
      "application/vnd.jupyter.widget-view+json": {
       "model_id": "c8c3178aefde4930882942d08ccf8634",
       "version_major": 2,
       "version_minor": 0
      },
      "text/plain": [
       "Training: |          | 0/? [00:00<?, ?it/s]"
      ]
     },
     "metadata": {},
     "output_type": "display_data"
    },
    {
     "data": {
      "application/vnd.jupyter.widget-view+json": {
       "model_id": "ff8b9351be3244cb86f8f6376a5afd9c",
       "version_major": 2,
       "version_minor": 0
      },
      "text/plain": [
       "Validation: |          | 0/? [00:00<?, ?it/s]"
      ]
     },
     "metadata": {},
     "output_type": "display_data"
    },
    {
     "data": {
      "application/vnd.jupyter.widget-view+json": {
       "model_id": "5c728b6262914aa6b9cadcd09e23e5ea",
       "version_major": 2,
       "version_minor": 0
      },
      "text/plain": [
       "Validation: |          | 0/? [00:00<?, ?it/s]"
      ]
     },
     "metadata": {},
     "output_type": "display_data"
    },
    {
     "data": {
      "application/vnd.jupyter.widget-view+json": {
       "model_id": "ab55c918616d44ff87c1d35556d5f23b",
       "version_major": 2,
       "version_minor": 0
      },
      "text/plain": [
       "Validation: |          | 0/? [00:00<?, ?it/s]"
      ]
     },
     "metadata": {},
     "output_type": "display_data"
    },
    {
     "data": {
      "application/vnd.jupyter.widget-view+json": {
       "model_id": "275a1c91719848aaa16703540ce1b74b",
       "version_major": 2,
       "version_minor": 0
      },
      "text/plain": [
       "Validation: |          | 0/? [00:00<?, ?it/s]"
      ]
     },
     "metadata": {},
     "output_type": "display_data"
    },
    {
     "data": {
      "application/vnd.jupyter.widget-view+json": {
       "model_id": "81efe573e4d74ca49b115cc03cf4b681",
       "version_major": 2,
       "version_minor": 0
      },
      "text/plain": [
       "Validation: |          | 0/? [00:00<?, ?it/s]"
      ]
     },
     "metadata": {},
     "output_type": "display_data"
    }
   ],
   "source": [
    "torch.set_float32_matmul_precision('medium')\n",
    "# Entraînement du modèle\n",
    "trainer.fit(model, train_DataLoader, test_DataLoader)"
   ]
  },
  {
   "cell_type": "code",
   "execution_count": 34,
   "metadata": {},
   "outputs": [
    {
     "name": "stderr",
     "output_type": "stream",
     "text": [
      "LOCAL_RANK: 0 - CUDA_VISIBLE_DEVICES: [0]\n"
     ]
    },
    {
     "data": {
      "application/vnd.jupyter.widget-view+json": {
       "model_id": "80047a24081e4c0eba432f2c7cd6fb04",
       "version_major": 2,
       "version_minor": 0
      },
      "text/plain": [
       "Validation: |          | 0/? [00:00<?, ?it/s]"
      ]
     },
     "metadata": {},
     "output_type": "display_data"
    },
    {
     "data": {
      "text/html": [
       "<pre style=\"white-space:pre;overflow-x:auto;line-height:normal;font-family:Menlo,'DejaVu Sans Mono',consolas,'Courier New',monospace\">┏━━━━━━━━━━━━━━━━━━━━━━━━━━━┳━━━━━━━━━━━━━━━━━━━━━━━━━━━┓\n",
       "┃<span style=\"font-weight: bold\">      Validate metric      </span>┃<span style=\"font-weight: bold\">       DataLoader 0        </span>┃\n",
       "┡━━━━━━━━━━━━━━━━━━━━━━━━━━━╇━━━━━━━━━━━━━━━━━━━━━━━━━━━┩\n",
       "│<span style=\"color: #008080; text-decoration-color: #008080\">    val_accuracy_epoch     </span>│<span style=\"color: #800080; text-decoration-color: #800080\">    0.9099099040031433     </span>│\n",
       "│<span style=\"color: #008080; text-decoration-color: #008080\">      val_loss_epoch       </span>│<span style=\"color: #800080; text-decoration-color: #800080\">    0.2919524013996124     </span>│\n",
       "└───────────────────────────┴───────────────────────────┘\n",
       "</pre>\n"
      ],
      "text/plain": [
       "┏━━━━━━━━━━━━━━━━━━━━━━━━━━━┳━━━━━━━━━━━━━━━━━━━━━━━━━━━┓\n",
       "┃\u001b[1m \u001b[0m\u001b[1m     Validate metric     \u001b[0m\u001b[1m \u001b[0m┃\u001b[1m \u001b[0m\u001b[1m      DataLoader 0       \u001b[0m\u001b[1m \u001b[0m┃\n",
       "┡━━━━━━━━━━━━━━━━━━━━━━━━━━━╇━━━━━━━━━━━━━━━━━━━━━━━━━━━┩\n",
       "│\u001b[36m \u001b[0m\u001b[36m   val_accuracy_epoch    \u001b[0m\u001b[36m \u001b[0m│\u001b[35m \u001b[0m\u001b[35m   0.9099099040031433    \u001b[0m\u001b[35m \u001b[0m│\n",
       "│\u001b[36m \u001b[0m\u001b[36m     val_loss_epoch      \u001b[0m\u001b[36m \u001b[0m│\u001b[35m \u001b[0m\u001b[35m   0.2919524013996124    \u001b[0m\u001b[35m \u001b[0m│\n",
       "└───────────────────────────┴───────────────────────────┘\n"
      ]
     },
     "metadata": {},
     "output_type": "display_data"
    },
    {
     "data": {
      "text/plain": [
       "[{'val_loss_epoch': 0.2919524013996124,\n",
       "  'val_accuracy_epoch': 0.9099099040031433}]"
      ]
     },
     "execution_count": 34,
     "metadata": {},
     "output_type": "execute_result"
    }
   ],
   "source": [
    "trainer.validate(model, test_DataLoader)"
   ]
  },
  {
   "cell_type": "code",
   "execution_count": 35,
   "metadata": {},
   "outputs": [
    {
     "name": "stdout",
     "output_type": "stream",
     "text": [
      "ID_TO_LABEL : {0: 'Travail', 1: 'Argent', 2: 'Famille', 3: 'Logement', 4: 'Protection sociale', 5: 'Justice', 6: 'Etrangers'}\n"
     ]
    }
   ],
   "source": [
    "# Créer le mapping inverse des catégories numériques vers les étiquettes d'origine\n",
    "ID_TO_LABEL = {v: k for k, v in category_mapping.items()}\n",
    "\n",
    "# Vérifier le mapping ID_TO_LABEL\n",
    "print(\"ID_TO_LABEL :\", ID_TO_LABEL)"
   ]
  },
  {
   "cell_type": "code",
   "execution_count": 37,
   "metadata": {},
   "outputs": [],
   "source": [
    "def get_preds(juribert_classifier, tokenizer, sentence):\n",
    "    # Tokenize the input sentence\n",
    "    tokens = tokenizer(sentence,padding=True, truncation=True, return_tensors='pt')\n",
    "    input_ids, attention_mask = tokens.input_ids, tokens.attention_mask\n",
    "\n",
    "    # Forward pass through the model\n",
    "    outputs = juribert_classifier.forward(input_ids,attention_mask)\n",
    "\n",
    "    # Get predicted probabilities and labels\n",
    "    probs = torch.nn.functional.softmax(outputs, dim=-1)\n",
    "    # probs = torch.argmax(outputs)\n",
    "    pred_prob, pred_label = torch.max(probs,dim=1)\n",
    "\n",
    "    # Get the label corresponding to the predicted index\n",
    "    predicted_label = ID_TO_LABEL[pred_label.item()]\n",
    "\n",
    "    return predicted_label, pred_prob.item()\n"
   ]
  },
  {
   "cell_type": "code",
   "execution_count": 39,
   "metadata": {},
   "outputs": [
    {
     "name": "stderr",
     "output_type": "stream",
     "text": [
      "Asking to truncate to max_length but no maximum length is provided and the model has no predefined maximum length. Default to no truncation.\n"
     ]
    },
    {
     "name": "stdout",
     "output_type": "stream",
     "text": [
      "Phrase: \"Quelles sont les options de logement disponibles?\" - Catégorie prédite: Argent, Confiance: 0.4593069851398468 \n",
      "\n",
      "Phrase: \"Comment obtenir une protection sociale adéquate?\" - Catégorie prédite: Protection sociale, Confiance: 0.8281599879264832 \n",
      "\n",
      "Phrase: \"Quels sont les recours en cas d'injustice?\" - Catégorie prédite: Protection sociale, Confiance: 0.8584994673728943 \n",
      "\n",
      "Phrase: \"Quelles sont les démarches pour s'installer à l'étranger?\" - Catégorie prédite: Protection sociale, Confiance: 0.31887146830558777 \n",
      "\n"
     ]
    }
   ],
   "source": [
    "phrases = [\n",
    "    # \"Quels sont mes droits au travail?\",\n",
    "    # \"Comment gérer mes finances efficacement?\",\n",
    "    # \"Comment renforcer les liens familiaux?\",\n",
    "    \"Quelles sont les options de logement disponibles?\",\n",
    "    \"Comment obtenir une protection sociale adéquate?\",\n",
    "    \"Quels sont les recours en cas d'injustice?\",\n",
    "    \"Quelles sont les démarches pour s'installer à l'étranger?\"\n",
    "]\n",
    "\n",
    "for phrase in phrases:\n",
    "    category_predicted, proba = get_preds(model, juribert_tokenizer, phrase)\n",
    "    print(f'Phrase: \"{phrase}\" - Catégorie prédite: {category_predicted}, Confiance: {proba} \\n')\n"
   ]
  },
  {
   "cell_type": "code",
   "execution_count": 43,
   "metadata": {},
   "outputs": [],
   "source": [
    "from sklearn.metrics import confusion_matrix\n",
    "import seaborn as sns\n",
    "import matplotlib.pyplot as plt\n",
    "\n",
    "def plot_confusion_matrix(labels, preds, label_names):\n",
    "    confusion_norm = confusion_matrix(labels, preds.tolist(), labels=list(range(len(label_names))), normalize=\"true\")\n",
    "    confusion = confusion_matrix(labels, preds.tolist(), labels=list(range(len(label_names))))\n",
    "    \n",
    "    # plt.figure(figsize=(16, 14))\n",
    "    sns.heatmap(\n",
    "        confusion_norm,\n",
    "        annot=confusion,\n",
    "        cbar=False,\n",
    "        fmt=\"d\",\n",
    "        xticklabels=label_names,\n",
    "        yticklabels=label_names,\n",
    "        cmap=\"viridis\"\n",
    "    )\n",
    "    plt.title('Matrice de confusion: JuriBERT_SMALL')\n",
    "    plt.colorbar\n",
    "    plt.show()\n",
    "    "
   ]
  },
  {
   "cell_type": "code",
   "execution_count": 40,
   "metadata": {},
   "outputs": [
    {
     "name": "stderr",
     "output_type": "stream",
     "text": [
      "LOCAL_RANK: 0 - CUDA_VISIBLE_DEVICES: [0]\n",
      "c:\\Users\\mthia\\anaconda3\\envs\\NLP_3A\\Lib\\site-packages\\pytorch_lightning\\trainer\\connectors\\data_connector.py:441: The 'predict_dataloader' does not have many workers which may be a bottleneck. Consider increasing the value of the `num_workers` argument` to `num_workers=15` in the `DataLoader` to improve performance.\n"
     ]
    },
    {
     "data": {
      "application/vnd.jupyter.widget-view+json": {
       "model_id": "d77ca88bb6e74dbdbb5a37e4939c2ca9",
       "version_major": 2,
       "version_minor": 0
      },
      "text/plain": [
       "Predicting: |          | 0/? [00:00<?, ?it/s]"
      ]
     },
     "metadata": {},
     "output_type": "display_data"
    }
   ],
   "source": [
    "juribert_preds =trainer.predict(model, dataloaders=test_DataLoader)\n",
    "juribert_preds = torch.cat(juribert_preds, -1)"
   ]
  },
  {
   "cell_type": "code",
   "execution_count": 41,
   "metadata": {},
   "outputs": [],
   "source": [
    "labels = test_dataset.data[\"labels\"]\n",
    "labels = torch.tensor(labels)"
   ]
  },
  {
   "cell_type": "code",
   "execution_count": 44,
   "metadata": {},
   "outputs": [
    {
     "data": {
      "image/png": "[encoded data removed]",
      "text/plain": [
       "<Figure size 640x480 with 1 Axes>"
      ]
     },
     "metadata": {},
     "output_type": "display_data"
    }
   ],
   "source": [
    "\n",
    "# Remplacez ces noms par vos vrais noms de catégories\n",
    "category_names = ['Tra', 'Arg', 'Fam', 'Log', 'P.S', 'Jus', 'Etr']\n",
    "\n",
    "plot_confusion_matrix(labels, juribert_preds, category_names)"
   ]
  }
 ],
 "metadata": {
  "kernelspec": {
   "display_name": "NLP_3A",
   "language": "python",
   "name": "python3"
  },
  "language_info": {
   "codemirror_mode": {
    "name": "ipython",
    "version": 3
   },
   "file_extension": ".py",
   "mimetype": "text/x-python",
   "name": "python",
   "nbconvert_exporter": "python",
   "pygments_lexer": "ipython3",
   "version": "3.11.7"
  }
 },
 "nbformat": 4,
 "nbformat_minor": 2
}
